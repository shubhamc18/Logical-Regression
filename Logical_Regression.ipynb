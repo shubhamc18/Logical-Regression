{
  "nbformat": 4,
  "nbformat_minor": 0,
  "metadata": {
    "colab": {
      "name": "Logical Regression.ipynb",
      "provenance": []
    },
    "kernelspec": {
      "name": "python3",
      "display_name": "Python 3"
    },
    "language_info": {
      "name": "python"
    }
  },
  "cells": [
    {
      "cell_type": "markdown",
      "source": [
        "Define a python function, which given inputs X1,X2,Theta will return the probability of passing the class."
      ],
      "metadata": {
        "id": "HUh8Tg_2dWVH"
      }
    },
    {
      "cell_type": "code",
      "source": [
        "import numpy as np\n",
        "\n",
        "def f1(X1, X2):\n",
        "    m = np.exp(6 + (-0.05 * X1) - X2)\n",
        "    return 1/(1+m)"
      ],
      "metadata": {
        "id": "8AhEgAj_dXXX"
      },
      "execution_count": null,
      "outputs": []
    },
    {
      "cell_type": "markdown",
      "source": [
        "What will be the probability of passing the class for a student who studies for 40 hours and has a GPA of 3.5?"
      ],
      "metadata": {
        "id": "h1ipnYZjgfB2"
      }
    },
    {
      "cell_type": "code",
      "source": [
        "import numpy as np\n",
        "\n",
        "def f1(X1, X2):\n",
        "    m = np.exp(6 + (-0.05 * X1) - X2)\n",
        "    return 1/(1+m)\n",
        "\n",
        "X1 = 40\n",
        "X2 = 3.5\n",
        "\n",
        "print(f1(X1,X2))"
      ],
      "metadata": {
        "colab": {
          "base_uri": "https://localhost:8080/"
        },
        "id": "vxmPvw71giKS",
        "outputId": "4442c3b5-ad57-48f1-e5d5-46cfc8d45c58"
      },
      "execution_count": null,
      "outputs": [
        {
          "output_type": "stream",
          "name": "stdout",
          "text": [
            "0.3775406687981454\n"
          ]
        }
      ]
    },
    {
      "cell_type": "markdown",
      "source": [
        "How many hours would the aforementioned student need to study in order to have at least 50% chance of passing the class?"
      ],
      "metadata": {
        "id": "UvyNwTz5dl9p"
      }
    },
    {
      "cell_type": "code",
      "source": [
        "# Q2 Part 3\n",
        "\n",
        "def f2(X1, X2):\n",
        "    m = np.exp(6 + (-0.05 * X1) - X2)\n",
        "    return 1/(1+m)\n",
        "\n",
        "X1 = 50\n",
        "X2 = 3.5\n",
        "\n",
        "print(f2(X1,X2))\n"
      ],
      "metadata": {
        "colab": {
          "base_uri": "https://localhost:8080/"
        },
        "id": "5h2G78vydoXX",
        "outputId": "05238635-da94-4949-e9ba-0efd942a6c05"
      },
      "execution_count": null,
      "outputs": [
        {
          "output_type": "stream",
          "name": "stdout",
          "text": [
            "0.5\n"
          ]
        }
      ]
    },
    {
      "cell_type": "markdown",
      "source": [
        "#3. Logistic Regression (6pt)"
      ],
      "metadata": {
        "id": "oAe3DQcrdeC8"
      }
    },
    {
      "cell_type": "markdown",
      "source": [
        "In the data, the input features are five of Lag variables and Volume, and the binary output is Direction. Read the csv into a pandas dataframe and describe the relevant features and target variables of the dataset."
      ],
      "metadata": {
        "id": "9wkIbbpPhESV"
      }
    },
    {
      "cell_type": "code",
      "execution_count": null,
      "metadata": {
        "colab": {
          "base_uri": "https://localhost:8080/"
        },
        "id": "1jpvuoZil_Zj",
        "outputId": "e9ca854c-b221-4377-b074-318dd4d95ecf"
      },
      "outputs": [
        {
          "output_type": "stream",
          "name": "stdout",
          "text": [
            "              Year         Lag1         Lag2         Lag3         Lag4  \\\n",
            "count  1089.000000  1089.000000  1089.000000  1089.000000  1089.000000   \n",
            "mean   2000.048669     0.150585     0.151079     0.147205     0.145818   \n",
            "std       6.033182     2.357013     2.357254     2.360502     2.360279   \n",
            "min    1990.000000   -18.195000   -18.195000   -18.195000   -18.195000   \n",
            "25%    1995.000000    -1.154000    -1.154000    -1.158000    -1.158000   \n",
            "50%    2000.000000     0.241000     0.241000     0.241000     0.238000   \n",
            "75%    2005.000000     1.405000     1.409000     1.409000     1.409000   \n",
            "max    2010.000000    12.026000    12.026000    12.026000    12.026000   \n",
            "\n",
            "              Lag5       Volume        Today  \n",
            "count  1089.000000  1089.000000  1089.000000  \n",
            "mean      0.139893     1.574618     0.149899  \n",
            "std       2.361285     1.686636     2.356927  \n",
            "min     -18.195000     0.087465   -18.195000  \n",
            "25%      -1.166000     0.332022    -1.154000  \n",
            "50%       0.234000     1.002680     0.241000  \n",
            "75%       1.405000     2.053727     1.405000  \n",
            "max      12.026000     9.328214    12.026000  \n",
            "count    1089.000000\n",
            "mean        0.150585\n",
            "std         2.357013\n",
            "min       -18.195000\n",
            "25%        -1.154000\n",
            "50%         0.241000\n",
            "75%         1.405000\n",
            "max        12.026000\n",
            "Name: Lag1, dtype: float64\n",
            "\n",
            "\n",
            "count    1089.000000\n",
            "mean        0.151079\n",
            "std         2.357254\n",
            "min       -18.195000\n",
            "25%        -1.154000\n",
            "50%         0.241000\n",
            "75%         1.409000\n",
            "max        12.026000\n",
            "Name: Lag2, dtype: float64\n",
            "\n",
            "\n",
            "count    1089.000000\n",
            "mean        0.147205\n",
            "std         2.360502\n",
            "min       -18.195000\n",
            "25%        -1.158000\n",
            "50%         0.241000\n",
            "75%         1.409000\n",
            "max        12.026000\n",
            "Name: Lag3, dtype: float64\n",
            "\n",
            "\n",
            "count    1089.000000\n",
            "mean        0.145818\n",
            "std         2.360279\n",
            "min       -18.195000\n",
            "25%        -1.158000\n",
            "50%         0.238000\n",
            "75%         1.409000\n",
            "max        12.026000\n",
            "Name: Lag4, dtype: float64\n",
            "\n",
            "\n",
            "count    1089.000000\n",
            "mean        0.139893\n",
            "std         2.361285\n",
            "min       -18.195000\n",
            "25%        -1.166000\n",
            "50%         0.234000\n",
            "75%         1.405000\n",
            "max        12.026000\n",
            "Name: Lag5, dtype: float64\n",
            "\n",
            "\n",
            "count    1089.000000\n",
            "mean        1.574618\n",
            "std         1.686636\n",
            "min         0.087465\n",
            "25%         0.332022\n",
            "50%         1.002680\n",
            "75%         2.053727\n",
            "max         9.328214\n",
            "Name: Volume, dtype: float64\n",
            "\n",
            "\n",
            "count     1089\n",
            "unique       2\n",
            "top         Up\n",
            "freq       605\n",
            "Name: Direction, dtype: object\n"
          ]
        }
      ],
      "source": [
        "import pandas as pd\n",
        "df = pd.read_csv('/content/Weekly.csv',index_col = 0)\n",
        "\n",
        "print(df.describe())\n",
        "print(df['Lag1'].describe())\n",
        "print('\\n')\n",
        "print(df['Lag2'].describe())\n",
        "print('\\n')\n",
        "print(df['Lag3'].describe())\n",
        "print('\\n')\n",
        "print(df['Lag4'].describe())\n",
        "print('\\n')\n",
        "print(df['Lag5'].describe())\n",
        "print('\\n')\n",
        "print(df['Volume'].describe())\n",
        "print('\\n')\n",
        "print(df['Direction'].describe())\n",
        "\n",
        "df.drop(columns='Today', inplace=True)\n"
      ]
    },
    {
      "cell_type": "code",
      "source": [
        "df['Year'] = df['Year'].astype(float)\n",
        "df.loc[df['Direction']=='Down', 'Direction'] = 1\n",
        "df.loc[df['Direction']=='Up', 'Direction'] = 0\n",
        "df['Direction'] = df['Direction'].astype(float)"
      ],
      "metadata": {
        "id": "X2ZaK5KxmCws"
      },
      "execution_count": null,
      "outputs": []
    },
    {
      "cell_type": "code",
      "source": [
        "from sklearn.model_selection import train_test_split\n",
        "X = df.drop('Direction', axis = 1)\n",
        "Y = df['Direction']\n",
        "X.shape,Y.shape\n",
        "X_train, X_test, Y_train, Y_test = train_test_split(X,Y,test_size=0.2)\n",
        "print(X_train.shape)\n",
        "\n",
        "#df2['Direction'].replace(['Up','Down'],\n",
        "                            #[0,1], inplace=True)"
      ],
      "metadata": {
        "colab": {
          "base_uri": "https://localhost:8080/"
        },
        "id": "-MhQ1yQ1mXxH",
        "outputId": "05aeb372-06d5-4846-a4a9-65d16ad8cfcd"
      },
      "execution_count": null,
      "outputs": [
        {
          "output_type": "stream",
          "name": "stdout",
          "text": [
            "(871, 7)\n"
          ]
        }
      ]
    },
    {
      "cell_type": "markdown",
      "source": [
        "We plan to reuse the SGD procedure from Assignment 2 to fit a logistic regression model. Do we need to write a new gradient function tailored to binary logistic regression, or can we use the one written in Assignment 2?\n",
        "\n",
        "Ans: We cannot reuse the SGD procedure from Assignment 2 as we had used SGD for linear regression in so we need to write a new gradient function tailored to binary logistic regression. and we use the code from Assignment 2 however we change it a little bit and add SGDClassifier(loss='log') for Logistic Regression. "
      ],
      "metadata": {
        "id": "8HMgtbkzhNAz"
      }
    },
    {
      "cell_type": "markdown",
      "source": [
        "Extend the gradient function such that a regularized logistic loss is being minimized. In particular, consider an \n",
        " penalty on the parameters (except the intercept). For this, the gradient function will need: (a) a penalty input that can take two values: \"none\" and \"l2\", and (b) an optional regularization coefficient  input. Summarize the changes from the previously written gradient function that were necessary to accomplish this."
      ],
      "metadata": {
        "id": "hl6szWeJiN08"
      }
    },
    {
      "cell_type": "code",
      "source": [
        "import numpy as np\n",
        "import scipy\n",
        "from scipy.special import expit\n",
        "\n",
        "class LogisticRegression(object):\n",
        "    \"\"\"\n",
        "    Logistic Regression Classifier\n",
        "    Parameters\n",
        "    ----------\n",
        "    learning_rate : int or float, default=0.1\n",
        "        The tuning parameter for the optimization algorithm (here, Gradient Descent) \n",
        "        that determines the step size at each iteration while moving toward a minimum \n",
        "        of the cost function.\n",
        "    max_iter : int, default=100\n",
        "        Maximum number of iterations taken for the optimization algorithm to converge\n",
        "    \n",
        "    penalty : None or 'l2', default='l2'.\n",
        "        Option to perform L2 regularization.\n",
        "    C : float, default=0.1\n",
        "        Inverse of regularization strength; must be a positive float. \n",
        "        Smaller values specify stronger regularization. \n",
        "    tolerance : float, optional, default=1e-4\n",
        "        Value indicating the weight change between epochs in which\n",
        "        gradient descent should terminated. \n",
        "    \"\"\"\n",
        "\n",
        "    def __init__(self, learning_rate=0.1, max_iter=100, regularization='l2', C = 0, tolerance = 1e-4):\n",
        "        self.learning_rate  = learning_rate\n",
        "        self.max_iter       = max_iter\n",
        "        self.regularization = regularization\n",
        "        self.C              = C\n",
        "        self.tolerance      = tolerance\n",
        "    \n",
        "    def fit(self, X, y):\n",
        "        \"\"\"\n",
        "        Fit the model according to the given training data.\n",
        "        Parameters\n",
        "        ----------\n",
        "        X : {array-like, sparse matrix} of shape (n_samples, n_features)\n",
        "            Training vector, where n_samples is the number of samples and\n",
        "            n_features is the number of features.\n",
        "        y : array-like of shape (n_samples,)\n",
        "            Target vector relative to X.\n",
        "        Returns\n",
        "        -------\n",
        "        self : object\n",
        "        \"\"\"\n",
        "        self.theta = np.zeros(X.shape[1] + 1)\n",
        "        X = np.concatenate((np.ones((X.shape[0], 1)), X), axis=1)\n",
        "\n",
        "        for _ in range(self.max_iter):\n",
        "            y_hat = self.__sigmoid(X @ self.theta)\n",
        "            errors = y - y_hat\n",
        "            N = X.shape[1]\n",
        "\n",
        "            if self.regularization is not None:\n",
        "                delta_grad = self.learning_rate * ((self.C * (X.T @ errors)) + np.sum(self.theta))\n",
        "            else:\n",
        "                delta_grad = self.learning_rate * (X.T @ errors)\n",
        "\n",
        "            if np.all(abs(delta_grad) >= self.tolerance):\n",
        "                self.theta -= delta_grad / N\n",
        "            else:\n",
        "                break\n",
        "                \n",
        "        return self\n",
        "\n",
        "    def predict_proba(self, X):\n",
        "        \"\"\"\n",
        "        Probability estimates for samples in X.\n",
        "        Parameters\n",
        "        ----------\n",
        "        X : array-like of shape (n_samples, n_features)\n",
        "            Vector to be scored, where `n_samples` is the number of samples and\n",
        "            `n_features` is the number of features.\n",
        "        Returns\n",
        "        -------\n",
        "        probs : array-like of shape (n_samples,)\n",
        "            Returns the probability of each sample.\n",
        "        \"\"\"\n",
        "        return self.__sigmoid((X @ self.theta[1:]) + self.theta[0])\n",
        "    \n",
        "    def predict(self, X):\n",
        "        \"\"\"\n",
        "        Predict class labels for samples in X.\n",
        "        Parameters\n",
        "        ----------\n",
        "        X : array_like or sparse matrix, shape (n_samples, n_features)\n",
        "            Samples.\n",
        "        Returns\n",
        "        -------\n",
        "        labels : array, shape [n_samples]\n",
        "            Predicted class label per sample.\n",
        "        \"\"\"\n",
        "        return np.round(self.predict_proba(X))\n",
        "        \n",
        "    def __sigmoid(self, z):\n",
        "        \"\"\"\n",
        "        The sigmoid function.\n",
        "        Parameters\n",
        "        ------------\n",
        "        z : float\n",
        "            linear combinations of weights and sample features\n",
        "            z = w_0 + w_1*x_1 + ... + w_n*x_n\n",
        "        Returns\n",
        "        ---------\n",
        "        Value of logistic function at z\n",
        "        \"\"\"\n",
        "        return 1 / (1 + expit(-z))\n",
        "\n",
        "    def get_params(self):\n",
        "        \"\"\"\n",
        "        Get method for models coeffients and intercept.\n",
        "        Returns\n",
        "        -------\n",
        "        params : dict\n",
        "        \"\"\"\n",
        "        try:\n",
        "            params = dict()\n",
        "            params['intercept'] = self.theta[0]\n",
        "            params['coef'] = self.theta[1:]\n",
        "            return params\n",
        "        except:\n",
        "            raise Exception('Fit the model first!')\n",
        "\n",
        "\n",
        "clf = LogisticRegression()\n",
        "clf.fit(X_test.values, Y_test.values)\n",
        "y_pred = clf.predict(X_test.values)\n",
        "print(y_pred)"
      ],
      "metadata": {
        "colab": {
          "base_uri": "https://localhost:8080/"
        },
        "id": "hx7pjE9EmbnB",
        "outputId": "bc44365f-f149-4077-f7f5-ad68ea5a06fb"
      },
      "execution_count": null,
      "outputs": [
        {
          "output_type": "stream",
          "name": "stdout",
          "text": [
            "[1. 1. 1. 1. 1. 1. 1. 1. 1. 1. 1. 1. 1. 1. 1. 1. 1. 1. 1. 1. 1. 1. 1. 1.\n",
            " 1. 1. 1. 1. 1. 1. 1. 1. 1. 1. 1. 1. 1. 1. 1. 1. 1. 1. 1. 1. 1. 1. 1. 1.\n",
            " 1. 1. 1. 1. 1. 1. 1. 1. 1. 1. 1. 1. 1. 1. 1. 1. 1. 1. 1. 1. 1. 1. 1. 1.\n",
            " 1. 1. 1. 1. 1. 1. 1. 1. 1. 1. 1. 1. 1. 1. 1. 1. 1. 1. 1. 1. 1. 1. 1. 1.\n",
            " 1. 1. 1. 1. 1. 1. 1. 1. 1. 1. 1. 1. 1. 1. 1. 1. 1. 1. 1. 1. 1. 1. 1. 1.\n",
            " 1. 1. 1. 1. 1. 1. 1. 1. 1. 1. 1. 1. 1. 1. 1. 1. 1. 1. 1. 1. 1. 1. 1. 1.\n",
            " 1. 1. 1. 1. 1. 1. 1. 1. 1. 1. 1. 1. 1. 1. 1. 1. 1. 1. 1. 1. 1. 1. 1. 1.\n",
            " 1. 1. 1. 1. 1. 1. 1. 1. 1. 1. 1. 1. 1. 1. 1. 1. 1. 1. 1. 1. 1. 1. 1. 1.\n",
            " 1. 1. 1. 1. 1. 1. 1. 1. 1. 1. 1. 1. 1. 1. 1. 1. 1. 1. 1. 1. 1. 1. 1. 1.\n",
            " 1. 1.]\n"
          ]
        }
      ]
    },
    {
      "cell_type": "markdown",
      "source": [
        "Write a python function that takes the predicted labels and the true label arrays, and computes the confusion matrix."
      ],
      "metadata": {
        "id": "TbCn3lY0i4uR"
      }
    },
    {
      "cell_type": "code",
      "source": [
        "X = df.drop('Direction', axis = 1)\n",
        "Y = df['Direction']\n",
        "X_train, X_test, Y_train, Y_test = train_test_split(X,Y,test_size=0.2)\n",
        "from sklearn.linear_model import LogisticRegression\n",
        "from sklearn.utils.multiclass import unique_labels\n",
        "from sklearn.metrics import confusion_matrix\n",
        "clf = LogisticRegression(random_state=10).fit(X_train,Y_train)\n",
        "y_predicted = clf.predict(X_train[:218])\n",
        "\n",
        "def confusionmatrix(y_true,y_pred):\n",
        "  labels = unique_labels(Y)\n",
        "  column = [f'predicted{label}' for label in labels]\n",
        "  index =  [f'actual{label}' for label in labels]\n",
        "  table = pd.DataFrame(confusion_matrix(y_true,y_pred),columns = column, index = index)\n",
        "  return table\n",
        "\n",
        "confusionmatrix(Y[:218],y_predicted)"
      ],
      "metadata": {
        "colab": {
          "base_uri": "https://localhost:8080/",
          "height": 110
        },
        "id": "0r_S5v-RVf93",
        "outputId": "1ebb11be-4aa2-4623-eb72-9399a5b259ac"
      },
      "execution_count": null,
      "outputs": [
        {
          "output_type": "execute_result",
          "data": {
            "text/html": [
              "\n",
              "  <div id=\"df-7525d8cd-3e25-46c0-b761-8b1f8e1d0660\">\n",
              "    <div class=\"colab-df-container\">\n",
              "      <div>\n",
              "<style scoped>\n",
              "    .dataframe tbody tr th:only-of-type {\n",
              "        vertical-align: middle;\n",
              "    }\n",
              "\n",
              "    .dataframe tbody tr th {\n",
              "        vertical-align: top;\n",
              "    }\n",
              "\n",
              "    .dataframe thead th {\n",
              "        text-align: right;\n",
              "    }\n",
              "</style>\n",
              "<table border=\"1\" class=\"dataframe\">\n",
              "  <thead>\n",
              "    <tr style=\"text-align: right;\">\n",
              "      <th></th>\n",
              "      <th>predicted0.0</th>\n",
              "      <th>predicted1.0</th>\n",
              "    </tr>\n",
              "  </thead>\n",
              "  <tbody>\n",
              "    <tr>\n",
              "      <th>actual0.0</th>\n",
              "      <td>117</td>\n",
              "      <td>5</td>\n",
              "    </tr>\n",
              "    <tr>\n",
              "      <th>actual1.0</th>\n",
              "      <td>91</td>\n",
              "      <td>5</td>\n",
              "    </tr>\n",
              "  </tbody>\n",
              "</table>\n",
              "</div>\n",
              "      <button class=\"colab-df-convert\" onclick=\"convertToInteractive('df-7525d8cd-3e25-46c0-b761-8b1f8e1d0660')\"\n",
              "              title=\"Convert this dataframe to an interactive table.\"\n",
              "              style=\"display:none;\">\n",
              "        \n",
              "  <svg xmlns=\"http://www.w3.org/2000/svg\" height=\"24px\"viewBox=\"0 0 24 24\"\n",
              "       width=\"24px\">\n",
              "    <path d=\"M0 0h24v24H0V0z\" fill=\"none\"/>\n",
              "    <path d=\"M18.56 5.44l.94 2.06.94-2.06 2.06-.94-2.06-.94-.94-2.06-.94 2.06-2.06.94zm-11 1L8.5 8.5l.94-2.06 2.06-.94-2.06-.94L8.5 2.5l-.94 2.06-2.06.94zm10 10l.94 2.06.94-2.06 2.06-.94-2.06-.94-.94-2.06-.94 2.06-2.06.94z\"/><path d=\"M17.41 7.96l-1.37-1.37c-.4-.4-.92-.59-1.43-.59-.52 0-1.04.2-1.43.59L10.3 9.45l-7.72 7.72c-.78.78-.78 2.05 0 2.83L4 21.41c.39.39.9.59 1.41.59.51 0 1.02-.2 1.41-.59l7.78-7.78 2.81-2.81c.8-.78.8-2.07 0-2.86zM5.41 20L4 18.59l7.72-7.72 1.47 1.35L5.41 20z\"/>\n",
              "  </svg>\n",
              "      </button>\n",
              "      \n",
              "  <style>\n",
              "    .colab-df-container {\n",
              "      display:flex;\n",
              "      flex-wrap:wrap;\n",
              "      gap: 12px;\n",
              "    }\n",
              "\n",
              "    .colab-df-convert {\n",
              "      background-color: #E8F0FE;\n",
              "      border: none;\n",
              "      border-radius: 50%;\n",
              "      cursor: pointer;\n",
              "      display: none;\n",
              "      fill: #1967D2;\n",
              "      height: 32px;\n",
              "      padding: 0 0 0 0;\n",
              "      width: 32px;\n",
              "    }\n",
              "\n",
              "    .colab-df-convert:hover {\n",
              "      background-color: #E2EBFA;\n",
              "      box-shadow: 0px 1px 2px rgba(60, 64, 67, 0.3), 0px 1px 3px 1px rgba(60, 64, 67, 0.15);\n",
              "      fill: #174EA6;\n",
              "    }\n",
              "\n",
              "    [theme=dark] .colab-df-convert {\n",
              "      background-color: #3B4455;\n",
              "      fill: #D2E3FC;\n",
              "    }\n",
              "\n",
              "    [theme=dark] .colab-df-convert:hover {\n",
              "      background-color: #434B5C;\n",
              "      box-shadow: 0px 1px 3px 1px rgba(0, 0, 0, 0.15);\n",
              "      filter: drop-shadow(0px 1px 2px rgba(0, 0, 0, 0.3));\n",
              "      fill: #FFFFFF;\n",
              "    }\n",
              "  </style>\n",
              "\n",
              "      <script>\n",
              "        const buttonEl =\n",
              "          document.querySelector('#df-7525d8cd-3e25-46c0-b761-8b1f8e1d0660 button.colab-df-convert');\n",
              "        buttonEl.style.display =\n",
              "          google.colab.kernel.accessAllowed ? 'block' : 'none';\n",
              "\n",
              "        async function convertToInteractive(key) {\n",
              "          const element = document.querySelector('#df-7525d8cd-3e25-46c0-b761-8b1f8e1d0660');\n",
              "          const dataTable =\n",
              "            await google.colab.kernel.invokeFunction('convertToInteractive',\n",
              "                                                     [key], {});\n",
              "          if (!dataTable) return;\n",
              "\n",
              "          const docLinkHtml = 'Like what you see? Visit the ' +\n",
              "            '<a target=\"_blank\" href=https://colab.research.google.com/notebooks/data_table.ipynb>data table notebook</a>'\n",
              "            + ' to learn more about interactive tables.';\n",
              "          element.innerHTML = '';\n",
              "          dataTable['output_type'] = 'display_data';\n",
              "          await google.colab.output.renderOutput(dataTable, element);\n",
              "          const docLink = document.createElement('div');\n",
              "          docLink.innerHTML = docLinkHtml;\n",
              "          element.appendChild(docLink);\n",
              "        }\n",
              "      </script>\n",
              "    </div>\n",
              "  </div>\n",
              "  "
            ],
            "text/plain": [
              "           predicted0.0  predicted1.0\n",
              "actual0.0           117             5\n",
              "actual1.0            91             5"
            ]
          },
          "metadata": {},
          "execution_count": 456
        }
      ]
    },
    {
      "cell_type": "markdown",
      "source": [
        "Use the above function to report the confusion matrix and the accuracy on both training and test data for two models\n",
        "\n",
        "A.the learned model when the regularization is absent"
      ],
      "metadata": {
        "id": "AzZm7gvSjdpz"
      }
    },
    {
      "cell_type": "code",
      "source": [
        "import numpy as np\n",
        "import scipy\n",
        "from scipy.special import expit\n",
        "\n",
        "class LogisticRegression(object):\n",
        "    def __init__(self, learning_rate=0.05, epoch=100, regularization=None, C = None, tolerance = 1e-9):\n",
        "        self.learning_rate  = learning_rate\n",
        "        self.max_iter       = epoch\n",
        "        self.regularization = regularization\n",
        "        self.C              = C\n",
        "        self.tolerance      = tolerance\n",
        "    \n",
        "    def fit(self, X, y):\n",
        "        self.theta = np.zeros(X.shape[1] + 1)\n",
        "        X = np.concatenate((np.ones((X.shape[0], 1)), X), axis=1)\n",
        "\n",
        "        for _ in range(self.max_iter):\n",
        "            y_hat = self.__sigmoid(X @ self.theta)\n",
        "            errors = y - y_hat\n",
        "            N = X.shape[1]\n",
        "\n",
        "            if self.regularization is not None:\n",
        "                delta_grad = self.learning_rate * ((self.C * (X.T @ errors)) + np.sum(self.theta))\n",
        "            else:\n",
        "                delta_grad = self.learning_rate * (X.T @ errors)\n",
        "\n",
        "            if np.all(abs(delta_grad) >= self.tolerance):\n",
        "                self.theta -= delta_grad / N\n",
        "            else:\n",
        "                break\n",
        "                \n",
        "        return self\n",
        "\n",
        "    def predict_proba(self, X):\n",
        "        return self.__sigmoid((X @ self.theta[1:]) + self.theta[0])\n",
        "    \n",
        "    def predict(self, X):\n",
        "        return np.round(self.predict_proba(X))\n",
        "        \n",
        "    def __sigmoid(self, z):\n",
        "        return 1 / (1 + expit(-z))\n",
        "\n",
        "    def get_params(self):\n",
        "        try:\n",
        "            params = dict()\n",
        "            params['intercept'] = self.theta[0]\n",
        "            params['coef'] = self.theta[1:]\n",
        "            return params\n",
        "        except:\n",
        "            raise Exception('Fit the model first!')\n",
        "\n",
        "\n",
        "clf = LogisticRegression()\n",
        "clf.fit(X_test.values, Y_test.values)\n",
        "clf.fit(X_train.values, Y_train.values)\n",
        "y_pred_test_no_regularization = clf.predict(X_test.values)\n",
        "y_pred_train_no_regularization = clf.predict(X_train.values)\n",
        "print('Predicted values for test dataset')\n",
        "print(y_pred_test_no_regularization)\n",
        "print('Confusion Matrix for test data')\n",
        "print(confusionmatrix(Y_test,y_pred_test_no_regularization))\n",
        "print('Accuracy:', metrics.accuracy_score(Y_test,y_pred_test_no_regularization)*100,'%')\n",
        "print('\\n')\n",
        "\n"
      ],
      "metadata": {
        "colab": {
          "base_uri": "https://localhost:8080/"
        },
        "id": "cwS7-KvSkUgZ",
        "outputId": "6ca32b5a-42cb-4cd0-fb8b-e5d71ebe1f1a"
      },
      "execution_count": null,
      "outputs": [
        {
          "output_type": "stream",
          "name": "stdout",
          "text": [
            "Predicted values for test dataset\n",
            "[1. 1. 1. 1. 1. 1. 1. 1. 1. 1. 1. 1. 1. 1. 1. 1. 1. 1. 1. 1. 1. 1. 1. 1.\n",
            " 1. 1. 1. 1. 1. 1. 1. 1. 1. 1. 1. 1. 1. 1. 1. 1. 1. 1. 1. 1. 1. 1. 1. 1.\n",
            " 1. 1. 1. 1. 1. 1. 1. 1. 1. 1. 1. 1. 1. 1. 1. 1. 1. 1. 1. 1. 1. 1. 1. 1.\n",
            " 1. 1. 1. 1. 1. 1. 1. 1. 1. 1. 1. 1. 1. 1. 1. 1. 1. 1. 1. 1. 1. 1. 1. 1.\n",
            " 1. 1. 1. 1. 1. 1. 1. 1. 1. 1. 1. 1. 1. 1. 1. 1. 1. 1. 1. 1. 1. 1. 1. 1.\n",
            " 1. 1. 1. 1. 1. 1. 1. 1. 1. 1. 1. 1. 1. 1. 1. 1. 1. 1. 1. 1. 1. 1. 1. 1.\n",
            " 1. 1. 1. 1. 1. 1. 1. 1. 1. 1. 1. 1. 1. 1. 1. 1. 1. 1. 1. 1. 1. 1. 1. 1.\n",
            " 1. 1. 1. 1. 1. 1. 1. 1. 1. 1. 1. 1. 1. 1. 1. 1. 1. 1. 1. 1. 1. 1. 1. 1.\n",
            " 1. 1. 1. 1. 1. 1. 1. 1. 1. 1. 1. 1. 1. 1. 1. 1. 1. 1. 1. 1. 1. 1. 1. 1.\n",
            " 1. 1.]\n",
            "Confusion Matrix for test data\n",
            "           predicted0.0  predicted1.0\n",
            "actual0.0             0           113\n",
            "actual1.0             0           105\n",
            "Accuracy: 48.1651376146789 %\n",
            "\n",
            "\n"
          ]
        }
      ]
    },
    {
      "cell_type": "code",
      "source": [
        "print('Predicted values for training dataset')\n",
        "print(y_pred_train_no_regularization)\n",
        "print('Confusion Matrix for training data')\n",
        "print(confusionmatrix(Y_train, y_pred_train_no_regularization))\n",
        "print('Accuracy:', metrics.accuracy_score(Y_train,y_pred_train_no_regularization)*100,'%')"
      ],
      "metadata": {
        "colab": {
          "base_uri": "https://localhost:8080/"
        },
        "id": "yA6DIhPBfOPW",
        "outputId": "c9ca3f73-d8e9-4cd4-b348-5e7ed402a832"
      },
      "execution_count": null,
      "outputs": [
        {
          "output_type": "stream",
          "name": "stdout",
          "text": [
            "Predicted values for training dataset\n",
            "[1. 1. 1. 1. 1. 1. 1. 1. 1. 1. 1. 1. 1. 1. 1. 1. 1. 1. 1. 1. 1. 1. 1. 1.\n",
            " 1. 1. 1. 1. 1. 1. 1. 1. 1. 1. 1. 1. 1. 1. 1. 1. 1. 1. 1. 1. 1. 1. 1. 1.\n",
            " 1. 1. 1. 1. 1. 1. 1. 1. 1. 1. 1. 1. 1. 1. 1. 1. 1. 1. 1. 1. 1. 1. 1. 1.\n",
            " 1. 1. 1. 1. 1. 1. 1. 1. 1. 1. 1. 1. 1. 1. 1. 1. 1. 1. 1. 1. 1. 1. 1. 1.\n",
            " 1. 1. 1. 1. 1. 1. 1. 1. 1. 1. 1. 1. 1. 1. 1. 1. 1. 1. 1. 1. 1. 1. 1. 1.\n",
            " 1. 1. 1. 1. 1. 1. 1. 1. 1. 1. 1. 1. 1. 1. 1. 1. 1. 1. 1. 1. 1. 1. 1. 1.\n",
            " 1. 1. 1. 1. 1. 1. 1. 1. 1. 1. 1. 1. 1. 1. 1. 1. 1. 1. 1. 1. 1. 1. 1. 1.\n",
            " 1. 1. 1. 1. 1. 1. 1. 1. 1. 1. 1. 1. 1. 1. 1. 1. 1. 1. 1. 1. 1. 1. 1. 1.\n",
            " 1. 1. 1. 1. 1. 1. 1. 1. 1. 1. 1. 1. 1. 1. 1. 1. 1. 1. 1. 1. 1. 1. 1. 1.\n",
            " 1. 1. 1. 1. 1. 1. 1. 1. 1. 1. 1. 1. 1. 1. 1. 1. 1. 1. 1. 1. 1. 1. 1. 1.\n",
            " 1. 1. 1. 1. 1. 1. 1. 1. 1. 1. 1. 1. 1. 1. 1. 1. 1. 1. 1. 1. 1. 1. 1. 1.\n",
            " 1. 1. 1. 1. 1. 1. 1. 1. 1. 1. 1. 1. 1. 1. 1. 1. 1. 1. 1. 1. 1. 1. 1. 1.\n",
            " 1. 1. 1. 1. 1. 1. 1. 1. 1. 1. 1. 1. 1. 1. 1. 1. 1. 1. 1. 1. 1. 1. 1. 1.\n",
            " 1. 1. 1. 1. 1. 1. 1. 1. 1. 1. 1. 1. 1. 1. 1. 1. 1. 1. 1. 1. 1. 1. 1. 1.\n",
            " 1. 1. 1. 1. 1. 1. 1. 1. 1. 1. 1. 1. 1. 1. 1. 1. 1. 1. 1. 1. 1. 1. 1. 1.\n",
            " 1. 1. 1. 1. 1. 1. 1. 1. 1. 1. 1. 1. 1. 1. 1. 1. 1. 1. 1. 1. 1. 1. 1. 1.\n",
            " 1. 1. 1. 1. 1. 1. 1. 1. 1. 1. 1. 1. 1. 1. 1. 1. 1. 1. 1. 1. 1. 1. 1. 1.\n",
            " 1. 1. 1. 1. 1. 1. 1. 1. 1. 1. 1. 1. 1. 1. 1. 1. 1. 1. 1. 1. 1. 1. 1. 1.\n",
            " 1. 1. 1. 1. 1. 1. 1. 1. 1. 1. 1. 1. 1. 1. 1. 1. 1. 1. 1. 1. 1. 1. 1. 1.\n",
            " 1. 1. 1. 1. 1. 1. 1. 1. 1. 1. 1. 1. 1. 1. 1. 1. 1. 1. 1. 1. 1. 1. 1. 1.\n",
            " 1. 1. 1. 1. 1. 1. 1. 1. 1. 1. 1. 1. 1. 1. 1. 1. 1. 1. 1. 1. 1. 1. 1. 1.\n",
            " 1. 1. 1. 1. 1. 1. 1. 1. 1. 1. 1. 1. 1. 1. 1. 1. 1. 1. 1. 1. 1. 1. 1. 1.\n",
            " 1. 1. 1. 1. 1. 1. 1. 1. 1. 1. 1. 1. 1. 1. 1. 1. 1. 1. 1. 1. 1. 1. 1. 1.\n",
            " 1. 1. 1. 1. 1. 1. 1. 1. 1. 1. 1. 1. 1. 1. 1. 1. 1. 1. 1. 1. 1. 1. 1. 1.\n",
            " 1. 1. 1. 1. 1. 1. 1. 1. 1. 1. 1. 1. 1. 1. 1. 1. 1. 1. 1. 1. 1. 1. 1. 1.\n",
            " 1. 1. 1. 1. 1. 1. 1. 1. 1. 1. 1. 1. 1. 1. 1. 1. 1. 1. 1. 1. 1. 1. 1. 1.\n",
            " 1. 1. 1. 1. 1. 1. 1. 1. 1. 1. 1. 1. 1. 1. 1. 1. 1. 1. 1. 1. 1. 1. 1. 1.\n",
            " 1. 1. 1. 1. 1. 1. 1. 1. 1. 1. 1. 1. 1. 1. 1. 1. 1. 1. 1. 1. 1. 1. 1. 1.\n",
            " 1. 1. 1. 1. 1. 1. 1. 1. 1. 1. 1. 1. 1. 1. 1. 1. 1. 1. 1. 1. 1. 1. 1. 1.\n",
            " 1. 1. 1. 1. 1. 1. 1. 1. 1. 1. 1. 1. 1. 1. 1. 1. 1. 1. 1. 1. 1. 1. 1. 1.\n",
            " 1. 1. 1. 1. 1. 1. 1. 1. 1. 1. 1. 1. 1. 1. 1. 1. 1. 1. 1. 1. 1. 1. 1. 1.\n",
            " 1. 1. 1. 1. 1. 1. 1. 1. 1. 1. 1. 1. 1. 1. 1. 1. 1. 1. 1. 1. 1. 1. 1. 1.\n",
            " 1. 1. 1. 1. 1. 1. 1. 1. 1. 1. 1. 1. 1. 1. 1. 1. 1. 1. 1. 1. 1. 1. 1. 1.\n",
            " 1. 1. 1. 1. 1. 1. 1. 1. 1. 1. 1. 1. 1. 1. 1. 1. 1. 1. 1. 1. 1. 1. 1. 1.\n",
            " 1. 1. 1. 1. 1. 1. 1. 1. 1. 1. 1. 1. 1. 1. 1. 1. 1. 1. 1. 1. 1. 1. 1. 1.\n",
            " 1. 1. 1. 1. 1. 1. 1. 1. 1. 1. 1. 1. 1. 1. 1. 1. 1. 1. 1. 1. 1. 1. 1. 1.\n",
            " 1. 1. 1. 1. 1. 1. 1.]\n",
            "Confusion Matrix for training data\n",
            "           predicted0.0  predicted1.0\n",
            "actual0.0             0           492\n",
            "actual1.0             0           379\n",
            "Accuracy: 43.51320321469575 %\n"
          ]
        }
      ]
    },
    {
      "cell_type": "markdown",
      "source": [
        "B.the learned model when regularization is present. (Hint: As nothing is specified, your default threshold to decide Up/Down can be 0.5.)"
      ],
      "metadata": {
        "id": "8A2r1hnZmd-R"
      }
    },
    {
      "cell_type": "code",
      "source": [
        "import numpy as np\n",
        "import scipy\n",
        "from scipy.special import expit\n",
        "\n",
        "class LogisticRegression(object):\n",
        "\n",
        "    def __init__(self, learning_rate=0.8, epoch=200, regularization='l2', C = 0.5, tolerance = 0e-5):\n",
        "        self.learning_rate  = learning_rate\n",
        "        self.max_iter       = epoch\n",
        "        self.regularization = regularization\n",
        "        self.C              = C\n",
        "        self.tolerance      = tolerance\n",
        "    \n",
        "    def fit(self, X, y):\n",
        "        self.theta = np.zeros(X.shape[1] + 1)\n",
        "        X = np.concatenate((np.ones((X.shape[0], 1)), X), axis=1)\n",
        "\n",
        "        for _ in range(self.max_iter):\n",
        "            y_hat = self.__sigmoid(X @ self.theta)\n",
        "            errors = y - y_hat\n",
        "            N = X.shape[1]\n",
        "            cost_append = []\n",
        "            if self.regularization is not None:\n",
        "                delta_grad = self.learning_rate * ((self.C * (X.T @ errors)) + np.sum(self.theta))\n",
        "                cost_append.append(delta_grad)\n",
        "            else:\n",
        "                delta_grad = self.learning_rate * (X.T @ errors)\n",
        "                cost_append.append(delta_grad)\n",
        "\n",
        "            if np.all(abs(delta_grad) >= self.tolerance):\n",
        "                self.theta -= delta_grad / N\n",
        "            else:\n",
        "                break\n",
        "                \n",
        "        return self, cost_append\n",
        "\n",
        "    def predict_proba(self, X):\n",
        "        return self.__sigmoid((X @ self.theta[1:]) + self.theta[0])\n",
        "    \n",
        "    def predict(self, X):\n",
        "        return np.round(self.predict_proba(X))\n",
        "        \n",
        "    def __sigmoid(self, z):\n",
        "        return 1 / (1 + expit(-z))\n",
        "\n",
        "    def get_params(self):\n",
        "        try:\n",
        "            params = dict()\n",
        "            params['intercept'] = self.theta[0]\n",
        "            params['coef'] = self.theta[1:]\n",
        "            return params\n",
        "        except:\n",
        "            raise Exception('Fit the model first!')\n",
        "\n",
        "clf = LogisticRegression()\n",
        "clf.fit(X_test.values, Y_test.values)\n",
        "variable,cost = clf.fit(X_test.values, Y_test.values)\n",
        "clf.fit(X_train.values, Y_train.values)\n",
        "y_pred_test = clf.predict(X_test.values)\n",
        "y_pred_train = clf.predict(X_train.values)\n",
        "print('Predicted values for test dataset')\n",
        "print(y_pred_test)\n",
        "print('Confusion Matrix for test data')\n",
        "print(confusion_matrix1(Y_test,y_pred_test))\n",
        "print('Accuracy:',metrics.accuracy_score(Y_test,y_pred_test)*100,'%')\n",
        "print('\\n')"
      ],
      "metadata": {
        "colab": {
          "base_uri": "https://localhost:8080/"
        },
        "id": "p4XT8TXpjeDL",
        "outputId": "573453ad-305e-40e9-f25b-499416caa1d4"
      },
      "execution_count": null,
      "outputs": [
        {
          "output_type": "stream",
          "name": "stdout",
          "text": [
            "Predicted values for test dataset\n",
            "[1. 1. 1. 1. 1. 1. 1. 1. 1. 1. 1. 1. 1. 1. 1. 1. 1. 1. 1. 1. 1. 1. 1. 1.\n",
            " 1. 1. 1. 1. 1. 1. 1. 1. 1. 1. 1. 1. 1. 1. 1. 1. 1. 1. 1. 1. 1. 1. 1. 1.\n",
            " 1. 1. 1. 1. 1. 1. 1. 1. 1. 1. 1. 1. 1. 1. 1. 1. 1. 1. 1. 1. 1. 1. 1. 1.\n",
            " 1. 1. 1. 1. 1. 1. 1. 1. 1. 1. 1. 1. 1. 1. 1. 1. 1. 1. 1. 1. 1. 1. 1. 1.\n",
            " 1. 1. 1. 1. 1. 1. 1. 1. 1. 1. 1. 1. 1. 1. 1. 1. 1. 1. 1. 1. 1. 1. 1. 1.\n",
            " 1. 1. 1. 1. 1. 1. 1. 1. 1. 1. 1. 1. 1. 1. 1. 1. 1. 1. 1. 1. 1. 1. 1. 1.\n",
            " 1. 1. 1. 1. 1. 1. 1. 1. 1. 1. 1. 1. 1. 1. 1. 1. 1. 1. 1. 1. 1. 1. 1. 1.\n",
            " 1. 1. 1. 1. 1. 1. 1. 1. 1. 1. 1. 1. 1. 1. 1. 1. 1. 1. 1. 1. 1. 1. 1. 1.\n",
            " 1. 1. 1. 1. 1. 1. 1. 1. 1. 1. 1. 1. 1. 1. 1. 1. 1. 1. 1. 1. 1. 1. 1. 1.\n",
            " 1. 1.]\n",
            "Confusion Matrix for test data\n",
            "           predicted0.0  predicted1.0\n",
            "actual0.0             0           113\n",
            "actual1.0             0           105\n",
            "Accuracy: 48.1651376146789 %\n",
            "\n",
            "\n"
          ]
        }
      ]
    },
    {
      "cell_type": "code",
      "source": [
        "print('Predicted values for training dataset')\n",
        "print(y_pred_train)\n",
        "print('Confusion Matrix for training data')\n",
        "print(confusionmatrix(Y_train, y_pred_train))\n",
        "print('Accuracy:', metrics.accuracy_score(Y_train,y_pred_train)*100,'%')"
      ],
      "metadata": {
        "colab": {
          "base_uri": "https://localhost:8080/"
        },
        "id": "UUy-RGybfJP0",
        "outputId": "eb6b1472-0d6e-4afd-92d4-5df52d94bc15"
      },
      "execution_count": null,
      "outputs": [
        {
          "output_type": "stream",
          "name": "stdout",
          "text": [
            "Predicted values for training dataset\n",
            "[1. 1. 1. 1. 1. 1. 1. 1. 1. 1. 1. 1. 1. 1. 1. 1. 1. 1. 1. 1. 1. 1. 1. 1.\n",
            " 1. 1. 1. 1. 1. 1. 1. 1. 1. 1. 1. 1. 1. 1. 1. 1. 1. 1. 1. 1. 1. 1. 1. 1.\n",
            " 1. 1. 1. 1. 1. 1. 1. 1. 1. 1. 1. 1. 1. 1. 1. 1. 1. 1. 1. 1. 1. 1. 1. 1.\n",
            " 1. 1. 1. 1. 1. 1. 1. 1. 1. 1. 1. 1. 1. 1. 1. 1. 1. 1. 1. 1. 1. 1. 1. 1.\n",
            " 1. 1. 1. 1. 1. 1. 1. 1. 1. 1. 1. 1. 1. 1. 1. 1. 1. 1. 1. 1. 1. 1. 1. 1.\n",
            " 1. 1. 1. 1. 1. 1. 1. 1. 1. 1. 1. 1. 1. 1. 1. 1. 1. 1. 1. 1. 1. 1. 1. 1.\n",
            " 1. 1. 1. 1. 1. 1. 1. 1. 1. 1. 1. 1. 1. 1. 1. 1. 1. 1. 1. 1. 1. 1. 1. 1.\n",
            " 1. 1. 1. 1. 1. 1. 1. 1. 1. 1. 1. 1. 1. 1. 1. 1. 1. 1. 1. 1. 1. 1. 1. 1.\n",
            " 1. 1. 1. 1. 1. 1. 1. 1. 1. 1. 1. 1. 1. 1. 1. 1. 1. 1. 1. 1. 1. 1. 1. 1.\n",
            " 1. 1. 1. 1. 1. 1. 1. 1. 1. 1. 1. 1. 1. 1. 1. 1. 1. 1. 1. 1. 1. 1. 1. 1.\n",
            " 1. 1. 1. 1. 1. 1. 1. 1. 1. 1. 1. 1. 1. 1. 1. 1. 1. 1. 1. 1. 1. 1. 1. 1.\n",
            " 1. 1. 1. 1. 1. 1. 1. 1. 1. 1. 1. 1. 1. 1. 1. 1. 1. 1. 1. 1. 1. 1. 1. 1.\n",
            " 1. 1. 1. 1. 1. 1. 1. 1. 1. 1. 1. 1. 1. 1. 1. 1. 1. 1. 1. 1. 1. 1. 1. 1.\n",
            " 1. 1. 1. 1. 1. 1. 1. 1. 1. 1. 1. 1. 1. 1. 1. 1. 1. 1. 1. 1. 1. 1. 1. 1.\n",
            " 1. 1. 1. 1. 1. 1. 1. 1. 1. 1. 1. 1. 1. 1. 1. 1. 1. 1. 1. 1. 1. 1. 1. 1.\n",
            " 1. 1. 1. 1. 1. 1. 1. 1. 1. 1. 1. 1. 1. 1. 1. 1. 1. 1. 1. 1. 1. 1. 1. 1.\n",
            " 1. 1. 1. 1. 1. 1. 1. 1. 1. 1. 1. 1. 1. 1. 1. 1. 1. 1. 1. 1. 1. 1. 1. 1.\n",
            " 1. 1. 1. 1. 1. 1. 1. 1. 1. 1. 1. 1. 1. 1. 1. 1. 1. 1. 1. 1. 1. 1. 1. 1.\n",
            " 1. 1. 1. 1. 1. 1. 1. 1. 1. 1. 1. 1. 1. 1. 1. 1. 1. 1. 1. 1. 1. 1. 1. 1.\n",
            " 1. 1. 1. 1. 1. 1. 1. 1. 1. 1. 1. 1. 1. 1. 1. 1. 1. 1. 1. 1. 1. 1. 1. 1.\n",
            " 1. 1. 1. 1. 1. 1. 1. 1. 1. 1. 1. 1. 1. 1. 1. 1. 1. 1. 1. 1. 1. 1. 1. 1.\n",
            " 1. 1. 1. 1. 1. 1. 1. 1. 1. 1. 1. 1. 1. 1. 1. 1. 1. 1. 1. 1. 1. 1. 1. 1.\n",
            " 1. 1. 1. 1. 1. 1. 1. 1. 1. 1. 1. 1. 1. 1. 1. 1. 1. 1. 1. 1. 1. 1. 1. 1.\n",
            " 1. 1. 1. 1. 1. 1. 1. 1. 1. 1. 1. 1. 1. 1. 1. 1. 1. 1. 1. 1. 1. 1. 1. 1.\n",
            " 1. 1. 1. 1. 1. 1. 1. 1. 1. 1. 1. 1. 1. 1. 1. 1. 1. 1. 1. 1. 1. 1. 1. 1.\n",
            " 1. 1. 1. 1. 1. 1. 1. 1. 1. 1. 1. 1. 1. 1. 1. 1. 1. 1. 1. 1. 1. 1. 1. 1.\n",
            " 1. 1. 1. 1. 1. 1. 1. 1. 1. 1. 1. 1. 1. 1. 1. 1. 1. 1. 1. 1. 1. 1. 1. 1.\n",
            " 1. 1. 1. 1. 1. 1. 1. 1. 1. 1. 1. 1. 1. 1. 1. 1. 1. 1. 1. 1. 1. 1. 1. 1.\n",
            " 1. 1. 1. 1. 1. 1. 1. 1. 1. 1. 1. 1. 1. 1. 1. 1. 1. 1. 1. 1. 1. 1. 1. 1.\n",
            " 1. 1. 1. 1. 1. 1. 1. 1. 1. 1. 1. 1. 1. 1. 1. 1. 1. 1. 1. 1. 1. 1. 1. 1.\n",
            " 1. 1. 1. 1. 1. 1. 1. 1. 1. 1. 1. 1. 1. 1. 1. 1. 1. 1. 1. 1. 1. 1. 1. 1.\n",
            " 1. 1. 1. 1. 1. 1. 1. 1. 1. 1. 1. 1. 1. 1. 1. 1. 1. 1. 1. 1. 1. 1. 1. 1.\n",
            " 1. 1. 1. 1. 1. 1. 1. 1. 1. 1. 1. 1. 1. 1. 1. 1. 1. 1. 1. 1. 1. 1. 1. 1.\n",
            " 1. 1. 1. 1. 1. 1. 1. 1. 1. 1. 1. 1. 1. 1. 1. 1. 1. 1. 1. 1. 1. 1. 1. 1.\n",
            " 1. 1. 1. 1. 1. 1. 1. 1. 1. 1. 1. 1. 1. 1. 1. 1. 1. 1. 1. 1. 1. 1. 1. 1.\n",
            " 1. 1. 1. 1. 1. 1. 1. 1. 1. 1. 1. 1. 1. 1. 1. 1. 1. 1. 1. 1. 1. 1. 1. 1.\n",
            " 1. 1. 1. 1. 1. 1. 1.]\n",
            "Confusion Matrix for training data\n",
            "           predicted0.0  predicted1.0\n",
            "actual0.0             0           492\n",
            "actual1.0             0           379\n",
            "Accuracy: 43.51320321469575 %\n"
          ]
        }
      ]
    },
    {
      "cell_type": "markdown",
      "source": [
        "Is the model without the regularization overfitting?\n",
        "\n",
        "No the model without regularization is not overfitting"
      ],
      "metadata": {
        "id": "vdQFRhujUo8e"
      }
    },
    {
      "cell_type": "markdown",
      "source": [
        "Is the model with regularization underfitting? \n",
        "\n",
        "Yes the model with regularizartion is underfitting"
      ],
      "metadata": {
        "id": "si034DoPUpS_"
      }
    },
    {
      "cell_type": "markdown",
      "source": [
        "Compare the performance of these two models with a corresponding model fit using scikit-learn."
      ],
      "metadata": {
        "id": "6zYxmFrRq7Cs"
      }
    },
    {
      "cell_type": "code",
      "source": [
        "#Accuracy for test data with penalty = 'l2'\n",
        "import numpy as np\n",
        "from sklearn.linear_model import LogisticRegression\n",
        "from sklearn import metrics\n",
        "#clf = LogisticRegression(random_state=0).fit(a_reshape,b)\n",
        "clf = LogisticRegression(penalty = 'l2',C = 0.1, tol = 0.5,random_state=10).fit(X_test,Y_test)\n",
        "y_predicted = clf.predict(X_test)\n",
        "print(y_predicted)\n",
        "print('confusion matrix for test data')\n",
        "print(confusionmatrix(Y_test,y_predicted))\n",
        "print('Accuracy of scikit for test data:', metrics.accuracy_score(Y_test,y_predicted)*100,'%')\n",
        "print('Accuracy of SGD classifier:', metrics.accuracy_score(Y_test,y_pred_test)*100,'%')"
      ],
      "metadata": {
        "colab": {
          "base_uri": "https://localhost:8080/"
        },
        "id": "-aNgFQ9puwmP",
        "outputId": "aff16cef-148f-49bf-9b56-a152282b71a5"
      },
      "execution_count": null,
      "outputs": [
        {
          "output_type": "stream",
          "name": "stdout",
          "text": [
            "[0. 0. 0. 1. 0. 0. 1. 0. 0. 1. 0. 0. 1. 1. 1. 0. 0. 0. 1. 0. 0. 0. 1. 0.\n",
            " 0. 1. 0. 1. 1. 0. 1. 1. 0. 1. 1. 0. 1. 0. 1. 1. 1. 0. 0. 0. 0. 0. 1. 0.\n",
            " 1. 0. 1. 1. 1. 0. 1. 0. 1. 1. 0. 0. 0. 1. 1. 0. 0. 0. 0. 1. 0. 0. 0. 0.\n",
            " 0. 0. 1. 0. 1. 1. 0. 0. 0. 0. 0. 0. 1. 0. 0. 0. 1. 0. 0. 0. 0. 0. 1. 1.\n",
            " 0. 0. 0. 1. 1. 0. 1. 0. 0. 0. 0. 0. 1. 1. 1. 1. 0. 0. 1. 0. 0. 0. 0. 0.\n",
            " 0. 1. 0. 0. 1. 1. 0. 1. 1. 0. 0. 1. 0. 1. 1. 1. 0. 0. 0. 0. 0. 1. 0. 1.\n",
            " 0. 1. 1. 1. 0. 1. 1. 0. 0. 1. 0. 0. 0. 0. 0. 0. 1. 0. 0. 1. 1. 1. 0. 0.\n",
            " 1. 0. 1. 0. 0. 1. 1. 0. 1. 1. 1. 1. 0. 1. 0. 1. 1. 0. 0. 1. 1. 1. 0. 1.\n",
            " 1. 1. 0. 0. 0. 0. 1. 0. 1. 0. 0. 0. 0. 0. 0. 1. 1. 1. 1. 0. 0. 1. 0. 0.\n",
            " 1. 0.]\n",
            "confusion matrix for test data\n",
            "           predicted0.0  predicted1.0\n",
            "actual0.0            74            39\n",
            "actual1.0            53            52\n",
            "Accuracy of scikit for test data: 57.798165137614674 %\n",
            "Accuracy of SGD classifier: 48.1651376146789 %\n"
          ]
        }
      ]
    },
    {
      "cell_type": "code",
      "source": [
        "#Accuracy for training data with penalty = 'l2'\n",
        "import numpy as np\n",
        "from sklearn.linear_model import LogisticRegression\n",
        "from sklearn import metrics\n",
        "#clf = LogisticRegression(random_state=0).fit(a_reshape,b)\n",
        "clf = LogisticRegression(penalty = 'l2',C = 0.1, tol = 0.5,random_state=10).fit(X_train,Y_train)\n",
        "y_predicted_train = clf.predict(X_train)\n",
        "print(y_predicted_train)\n",
        "print('confusion matrix for training data')\n",
        "print(confusionmatrix(Y_train,y_predicted_train))\n",
        "print('Accuracy of scikit for training data:', metrics.accuracy_score(Y_train,y_predicted_train)*100,'%')\n",
        "print('Accuracy of SGD classifier:', metrics.accuracy_score(Y_train,y_pred_train)*100,'%')"
      ],
      "metadata": {
        "colab": {
          "base_uri": "https://localhost:8080/"
        },
        "id": "1l1hfzmNhd31",
        "outputId": "300b39e6-2d7b-4583-9cb4-64a9acd953ea"
      },
      "execution_count": null,
      "outputs": [
        {
          "output_type": "stream",
          "name": "stdout",
          "text": [
            "[1. 0. 0. 0. 0. 0. 0. 0. 0. 1. 0. 0. 0. 0. 0. 0. 0. 0. 0. 0. 0. 0. 0. 0.\n",
            " 0. 0. 0. 0. 0. 0. 0. 0. 0. 0. 0. 0. 0. 0. 0. 0. 0. 0. 0. 0. 0. 0. 0. 0.\n",
            " 0. 0. 0. 0. 0. 1. 1. 0. 0. 0. 0. 0. 0. 0. 0. 0. 0. 0. 0. 0. 0. 0. 0. 0.\n",
            " 0. 0. 0. 0. 0. 0. 0. 0. 0. 0. 0. 0. 0. 0. 0. 0. 0. 0. 0. 0. 1. 0. 0. 0.\n",
            " 0. 0. 0. 0. 0. 0. 0. 0. 0. 0. 0. 0. 0. 0. 0. 0. 0. 0. 0. 0. 0. 0. 0. 0.\n",
            " 0. 0. 0. 0. 0. 0. 0. 0. 0. 0. 0. 0. 0. 0. 0. 0. 0. 0. 0. 0. 0. 0. 0. 0.\n",
            " 0. 1. 0. 0. 0. 0. 0. 0. 0. 0. 0. 0. 0. 0. 0. 0. 0. 0. 0. 0. 0. 0. 0. 0.\n",
            " 0. 0. 0. 0. 0. 0. 0. 0. 0. 0. 0. 0. 0. 0. 0. 0. 0. 1. 0. 0. 0. 0. 0. 1.\n",
            " 0. 0. 0. 0. 0. 0. 0. 0. 0. 0. 0. 0. 0. 0. 0. 0. 0. 0. 0. 0. 1. 0. 0. 0.\n",
            " 0. 0. 0. 0. 0. 0. 0. 0. 0. 1. 0. 0. 0. 0. 0. 0. 0. 0. 0. 1. 0. 0. 0. 0.\n",
            " 0. 0. 0. 0. 0. 0. 0. 0. 0. 0. 0. 0. 0. 0. 0. 1. 0. 0. 0. 0. 0. 0. 0. 0.\n",
            " 0. 0. 1. 0. 0. 0. 0. 0. 0. 0. 0. 0. 1. 0. 0. 0. 0. 0. 0. 1. 0. 0. 0. 0.\n",
            " 0. 0. 0. 0. 0. 0. 0. 0. 0. 0. 0. 1. 0. 0. 0. 0. 1. 0. 0. 0. 0. 0. 0. 0.\n",
            " 0. 0. 0. 0. 0. 0. 0. 1. 0. 0. 0. 0. 0. 0. 0. 0. 1. 0. 0. 0. 0. 0. 1. 0.\n",
            " 0. 0. 0. 1. 0. 0. 0. 0. 0. 0. 0. 0. 0. 0. 0. 0. 0. 0. 0. 0. 0. 0. 0. 0.\n",
            " 0. 0. 0. 0. 0. 0. 0. 0. 0. 0. 0. 0. 0. 0. 0. 0. 1. 0. 0. 1. 0. 0. 0. 0.\n",
            " 0. 0. 0. 0. 0. 0. 0. 0. 0. 0. 0. 0. 0. 0. 0. 0. 0. 0. 0. 0. 0. 0. 0. 0.\n",
            " 1. 0. 0. 0. 0. 0. 0. 0. 0. 0. 0. 0. 1. 0. 0. 0. 0. 0. 0. 0. 0. 0. 0. 0.\n",
            " 0. 0. 0. 0. 0. 0. 1. 0. 0. 0. 0. 0. 0. 0. 0. 0. 0. 0. 0. 0. 0. 0. 0. 0.\n",
            " 0. 0. 0. 0. 0. 0. 0. 0. 1. 0. 0. 1. 0. 0. 0. 0. 0. 0. 0. 0. 0. 0. 0. 0.\n",
            " 0. 0. 0. 0. 0. 0. 0. 0. 0. 0. 0. 0. 0. 0. 0. 0. 0. 0. 0. 0. 0. 0. 0. 0.\n",
            " 0. 0. 0. 0. 0. 0. 0. 0. 0. 0. 0. 0. 0. 0. 0. 0. 0. 0. 0. 0. 0. 0. 0. 0.\n",
            " 0. 0. 0. 0. 0. 0. 0. 0. 0. 0. 0. 0. 0. 0. 0. 0. 0. 0. 0. 0. 0. 0. 0. 0.\n",
            " 0. 0. 0. 0. 0. 0. 0. 0. 0. 0. 0. 0. 0. 0. 0. 0. 0. 0. 0. 1. 0. 0. 0. 0.\n",
            " 0. 0. 0. 0. 0. 0. 0. 0. 0. 0. 0. 0. 0. 0. 0. 0. 0. 0. 0. 0. 0. 0. 0. 0.\n",
            " 0. 0. 0. 0. 0. 0. 0. 0. 0. 0. 0. 0. 0. 0. 0. 0. 0. 0. 0. 0. 0. 0. 0. 0.\n",
            " 0. 1. 0. 0. 0. 0. 0. 0. 0. 0. 0. 0. 0. 0. 0. 0. 0. 0. 0. 0. 0. 0. 0. 0.\n",
            " 0. 0. 1. 0. 0. 0. 0. 0. 0. 0. 0. 0. 0. 0. 0. 0. 0. 0. 0. 0. 0. 0. 0. 0.\n",
            " 0. 0. 0. 0. 0. 0. 0. 0. 1. 0. 0. 0. 0. 0. 0. 0. 0. 0. 0. 1. 0. 1. 0. 0.\n",
            " 0. 0. 0. 0. 0. 0. 0. 0. 1. 0. 0. 0. 0. 0. 0. 0. 0. 0. 0. 0. 0. 0. 0. 0.\n",
            " 0. 0. 0. 0. 0. 1. 0. 0. 0. 0. 0. 1. 0. 0. 0. 0. 0. 0. 0. 0. 0. 0. 0. 0.\n",
            " 1. 0. 0. 0. 0. 0. 0. 0. 0. 0. 0. 1. 0. 0. 0. 0. 0. 0. 0. 0. 0. 0. 0. 0.\n",
            " 0. 0. 0. 0. 0. 0. 0. 0. 1. 0. 0. 0. 0. 0. 1. 0. 0. 0. 0. 0. 0. 0. 0. 0.\n",
            " 0. 0. 0. 0. 0. 0. 1. 0. 0. 0. 1. 0. 0. 1. 0. 0. 0. 0. 0. 0. 0. 0. 0. 0.\n",
            " 0. 0. 0. 0. 0. 0. 1. 0. 0. 0. 0. 0. 1. 0. 0. 0. 0. 1. 0. 0. 0. 0. 0. 0.\n",
            " 0. 0. 0. 0. 0. 0. 1. 0. 0. 1. 0. 0. 0. 0. 0. 0. 0. 0. 0. 0. 0. 0. 0. 0.\n",
            " 0. 0. 0. 0. 0. 0. 0.]\n",
            "confusion matrix for training data\n",
            "           predicted0.0  predicted1.0\n",
            "actual0.0           471            21\n",
            "actual1.0           351            28\n",
            "Accuracy of scikit for training data: 57.29047072330654 %\n",
            "Accuracy of SGD classifier: 43.51320321469575 %\n"
          ]
        }
      ]
    },
    {
      "cell_type": "code",
      "source": [
        "#Accuracy for test data for penalty = 'None'\n",
        "import numpy as np\n",
        "from sklearn.linear_model import LogisticRegression\n",
        "from sklearn import metrics\n",
        "#clf = LogisticRegression(random_state=0).fit(a_reshape,b)\n",
        "clf = LogisticRegression(penalty = 'none',random_state=10).fit(X_test,Y_test)\n",
        "y_predicted = clf.predict(X_test)\n",
        "print(y_predicted)\n",
        "print('confusion matrix for testing data')\n",
        "print(confusionmatrix(Y_test,y_predicted))\n",
        "print('Accuracy of scikit for test data:', metrics.accuracy_score(Y_test,y_predicted)*100,'%')\n",
        "print('Accuracy of SGD:', metrics.accuracy_score(Y_test,y_pred_test_no_regularization)*100,'%')"
      ],
      "metadata": {
        "colab": {
          "base_uri": "https://localhost:8080/"
        },
        "id": "cFme_WJcc6e3",
        "outputId": "6aa6e881-954d-4a56-e07a-bfc5c6fabf8f"
      },
      "execution_count": null,
      "outputs": [
        {
          "output_type": "stream",
          "name": "stdout",
          "text": [
            "[0. 0. 0. 1. 0. 0. 1. 0. 0. 1. 0. 0. 1. 1. 1. 0. 0. 0. 1. 0. 0. 0. 1. 0.\n",
            " 0. 1. 0. 1. 1. 0. 1. 1. 0. 1. 1. 0. 1. 0. 1. 1. 1. 0. 0. 0. 0. 0. 1. 0.\n",
            " 1. 0. 1. 1. 1. 0. 1. 0. 1. 1. 0. 0. 0. 1. 1. 0. 0. 0. 0. 1. 0. 0. 0. 0.\n",
            " 0. 0. 1. 0. 1. 1. 0. 0. 0. 0. 0. 0. 1. 0. 0. 0. 1. 0. 0. 0. 0. 0. 1. 1.\n",
            " 0. 0. 0. 1. 1. 0. 1. 0. 0. 0. 1. 0. 1. 1. 1. 1. 0. 0. 1. 0. 0. 0. 0. 0.\n",
            " 0. 1. 0. 0. 1. 1. 0. 1. 1. 0. 0. 1. 0. 1. 1. 1. 0. 0. 0. 0. 0. 1. 0. 1.\n",
            " 0. 1. 1. 1. 0. 1. 1. 0. 0. 1. 0. 0. 0. 0. 0. 0. 1. 0. 0. 1. 1. 1. 0. 0.\n",
            " 1. 0. 1. 0. 0. 1. 1. 0. 1. 1. 1. 1. 0. 1. 0. 1. 1. 0. 0. 1. 1. 1. 0. 1.\n",
            " 1. 1. 0. 0. 0. 0. 1. 0. 1. 0. 0. 0. 0. 0. 0. 1. 1. 1. 1. 0. 0. 1. 0. 0.\n",
            " 1. 0.]\n",
            "confusion matrix for testing data\n",
            "           predicted0.0  predicted1.0\n",
            "actual0.0            73            40\n",
            "actual1.0            53            52\n",
            "Accuracy of scikit for test data: 57.3394495412844 %\n",
            "Accuracy of SGD: 48.1651376146789 %\n"
          ]
        }
      ]
    },
    {
      "cell_type": "code",
      "source": [
        "#Accuracy for train data for penalty = 'None'\n",
        "import numpy as np\n",
        "from sklearn.linear_model import LogisticRegression\n",
        "from sklearn import metrics\n",
        "#clf = LogisticRegression(random_state=0).fit(a_reshape,b)\n",
        "clf = LogisticRegression(penalty = 'none',random_state=10).fit(X_train,Y_train)\n",
        "y_predicted_no_reg = clf.predict(X_train)\n",
        "print(y_predicted_no_reg)\n",
        "print('confusion matrix for testing data')\n",
        "print(confusionmatrix(Y[:871],y_predicted_no_reg))\n",
        "print('Accuracy of scikit for test data:', metrics.accuracy_score(Y_train,y_predicted_no_reg)*100,'%')\n",
        "print('Accuracy of SGD:', metrics.accuracy_score(Y_train,y_pred_train_no_regularization)*100,'%')"
      ],
      "metadata": {
        "colab": {
          "base_uri": "https://localhost:8080/"
        },
        "id": "9ILV0ip9h40b",
        "outputId": "24d23456-74b0-4a21-82ee-be78ea1a243e"
      },
      "execution_count": null,
      "outputs": [
        {
          "output_type": "stream",
          "name": "stdout",
          "text": [
            "[1. 0. 0. 0. 0. 0. 0. 0. 0. 1. 0. 0. 0. 0. 0. 0. 0. 0. 0. 0. 0. 0. 0. 0.\n",
            " 0. 0. 0. 0. 0. 0. 0. 0. 0. 0. 0. 0. 0. 0. 0. 0. 0. 0. 0. 0. 0. 0. 0. 0.\n",
            " 0. 0. 0. 0. 0. 1. 1. 0. 0. 0. 0. 0. 0. 0. 1. 0. 0. 0. 0. 0. 0. 0. 0. 0.\n",
            " 0. 0. 0. 0. 0. 0. 0. 0. 0. 0. 0. 0. 0. 0. 0. 0. 0. 0. 0. 0. 1. 0. 0. 0.\n",
            " 0. 0. 0. 0. 0. 0. 0. 0. 0. 0. 0. 0. 0. 0. 0. 0. 0. 0. 0. 0. 0. 0. 0. 0.\n",
            " 0. 0. 0. 0. 0. 0. 0. 0. 0. 0. 0. 0. 0. 0. 0. 0. 0. 0. 0. 0. 0. 0. 0. 0.\n",
            " 0. 1. 0. 0. 0. 0. 0. 0. 0. 0. 0. 0. 0. 0. 0. 0. 0. 0. 0. 0. 0. 0. 0. 0.\n",
            " 0. 0. 0. 0. 0. 0. 0. 0. 0. 0. 0. 0. 0. 0. 0. 0. 0. 1. 0. 0. 0. 0. 0. 1.\n",
            " 0. 0. 0. 0. 0. 0. 0. 0. 0. 0. 0. 0. 0. 0. 0. 0. 0. 0. 0. 0. 1. 0. 0. 0.\n",
            " 0. 0. 0. 0. 0. 0. 0. 0. 0. 1. 0. 0. 0. 0. 0. 0. 0. 0. 0. 1. 0. 0. 0. 0.\n",
            " 0. 0. 0. 0. 0. 0. 0. 0. 0. 0. 0. 0. 0. 0. 0. 1. 0. 0. 0. 0. 0. 0. 0. 0.\n",
            " 0. 0. 1. 0. 0. 0. 0. 0. 0. 0. 0. 0. 1. 0. 0. 0. 0. 0. 0. 1. 0. 0. 0. 0.\n",
            " 0. 0. 0. 0. 0. 0. 0. 0. 0. 0. 0. 1. 0. 0. 0. 0. 1. 0. 0. 0. 0. 0. 0. 0.\n",
            " 0. 0. 0. 0. 0. 0. 0. 1. 0. 0. 0. 0. 0. 0. 0. 0. 1. 0. 0. 0. 0. 0. 1. 0.\n",
            " 0. 0. 0. 1. 0. 0. 0. 0. 0. 0. 0. 0. 0. 0. 0. 0. 0. 0. 0. 0. 0. 0. 0. 0.\n",
            " 0. 0. 0. 0. 0. 0. 0. 0. 0. 0. 0. 0. 0. 0. 0. 0. 1. 0. 0. 1. 0. 0. 0. 0.\n",
            " 0. 0. 0. 0. 0. 0. 0. 0. 0. 0. 0. 0. 0. 0. 0. 0. 0. 0. 0. 0. 0. 0. 0. 0.\n",
            " 1. 0. 0. 0. 0. 0. 0. 0. 0. 0. 0. 0. 1. 0. 0. 0. 0. 0. 0. 0. 0. 0. 0. 0.\n",
            " 0. 0. 0. 0. 0. 0. 1. 0. 0. 0. 0. 0. 0. 0. 0. 0. 0. 0. 0. 0. 0. 0. 0. 0.\n",
            " 0. 0. 0. 0. 0. 0. 0. 0. 1. 0. 0. 1. 0. 0. 0. 0. 0. 0. 0. 0. 0. 0. 0. 0.\n",
            " 0. 0. 0. 0. 0. 0. 0. 0. 0. 0. 0. 0. 0. 0. 0. 0. 0. 0. 0. 0. 0. 0. 0. 0.\n",
            " 0. 0. 0. 0. 0. 0. 0. 0. 0. 0. 0. 0. 0. 0. 0. 0. 0. 0. 0. 0. 0. 0. 0. 0.\n",
            " 0. 0. 0. 0. 0. 0. 0. 0. 0. 0. 0. 0. 0. 0. 0. 0. 0. 0. 0. 0. 0. 0. 0. 0.\n",
            " 0. 0. 0. 0. 0. 0. 0. 0. 0. 0. 0. 0. 0. 0. 0. 0. 0. 0. 0. 1. 0. 0. 0. 0.\n",
            " 0. 0. 0. 0. 0. 0. 0. 0. 0. 0. 0. 0. 0. 0. 0. 0. 0. 0. 0. 0. 0. 0. 0. 0.\n",
            " 0. 0. 0. 0. 0. 0. 0. 0. 0. 0. 0. 0. 0. 0. 0. 0. 0. 0. 0. 0. 0. 0. 0. 0.\n",
            " 0. 1. 0. 0. 0. 0. 0. 0. 0. 0. 0. 0. 0. 0. 0. 0. 0. 0. 0. 0. 0. 0. 0. 0.\n",
            " 0. 0. 1. 0. 0. 0. 0. 0. 0. 0. 0. 0. 0. 0. 0. 0. 0. 0. 0. 0. 0. 0. 0. 0.\n",
            " 0. 0. 0. 0. 0. 0. 0. 0. 1. 0. 0. 0. 0. 0. 0. 0. 0. 0. 0. 1. 0. 1. 0. 0.\n",
            " 0. 0. 0. 0. 0. 0. 0. 0. 1. 0. 0. 0. 0. 0. 0. 0. 0. 0. 0. 0. 0. 0. 0. 0.\n",
            " 0. 0. 0. 0. 0. 1. 0. 0. 0. 0. 0. 1. 0. 0. 0. 0. 0. 0. 0. 0. 0. 0. 0. 0.\n",
            " 1. 0. 0. 0. 0. 0. 0. 0. 0. 0. 0. 1. 0. 0. 0. 0. 0. 0. 0. 0. 0. 0. 0. 0.\n",
            " 0. 0. 0. 0. 0. 0. 0. 0. 1. 0. 0. 0. 0. 0. 1. 0. 0. 0. 0. 0. 0. 0. 0. 0.\n",
            " 0. 0. 0. 0. 0. 0. 1. 0. 0. 0. 1. 0. 0. 1. 0. 0. 0. 0. 0. 0. 0. 0. 0. 0.\n",
            " 0. 0. 0. 0. 0. 0. 1. 0. 0. 0. 0. 0. 1. 0. 0. 0. 0. 1. 0. 0. 0. 0. 0. 0.\n",
            " 0. 0. 0. 0. 0. 0. 1. 0. 0. 1. 0. 0. 0. 0. 0. 0. 0. 0. 0. 0. 0. 0. 0. 0.\n",
            " 0. 0. 0. 0. 0. 0. 0.]\n",
            "confusion matrix for testing data\n",
            "           predicted0.0  predicted1.0\n",
            "actual0.0           454            33\n",
            "actual1.0           367            17\n",
            "Accuracy of scikit for test data: 57.175660160734786 %\n",
            "Accuracy of SGD: 43.51320321469575 %\n"
          ]
        }
      ]
    },
    {
      "cell_type": "markdown",
      "source": [
        "How do the various parameters (learning rate, regularization coefficient) influence our results?\n",
        "\n",
        "As we increase the learning rate and regularisation we don't notice a considerable difference in the accuracy of the model"
      ],
      "metadata": {
        "id": "FqlmvdffrEJ5"
      }
    },
    {
      "cell_type": "markdown",
      "source": [
        "Implement a python function that takes the predicted labels and the true label arrays, and computes the F-score."
      ],
      "metadata": {
        "id": "Qn69WoGnr2hd"
      }
    },
    {
      "cell_type": "code",
      "source": [
        "def f_score(True_positive, True_negative, False_negative, False_positive):\n",
        "  recall = True_positive/(True_positive + False_negative)\n",
        "  precision = True_positive/(True_positive + False_positive)\n",
        "  f1_score = (precision * recall / (precision + recall)) * 2\n",
        "  return f1_score\n",
        "\n",
        "f_score(111,11,74,22)"
      ],
      "metadata": {
        "colab": {
          "base_uri": "https://localhost:8080/"
        },
        "id": "WMa5UcVBr5K4",
        "outputId": "8de51c01-ed51-4a3b-a405-d2bbb782559b"
      },
      "execution_count": null,
      "outputs": [
        {
          "output_type": "execute_result",
          "data": {
            "text/plain": [
              "0.6981132075471698"
            ]
          },
          "metadata": {},
          "execution_count": 465
        }
      ]
    },
    {
      "cell_type": "markdown",
      "source": [
        "Now you will run logistic regression (without regularization, and using our SGD procedure) five times with only one input features Lagj () for each time. Compute the confusion matrix, F score (using our implementations) and the accuracy on both training and test data given each of the learned models."
      ],
      "metadata": {
        "id": "6xjCyzjhrjZE"
      }
    },
    {
      "cell_type": "code",
      "source": [
        "X1 = df['Lag1']\n",
        "X2 = df['Lag2']\n",
        "X3 = df['Lag3']\n",
        "X4 = df['Lag4']\n",
        "X5 = df['Lag5']\n",
        "Y1 = df['Direction']\n",
        "X_train1, X_test1, Y_train1, Y_test1 = train_test_split(X1,Y1,test_size=0.2)\n",
        "X_train2, X_test2, Y_train2, Y_test2 = train_test_split(X2,Y1,test_size=0.2)\n",
        "X_train3, X_test3, Y_train3, Y_test3 = train_test_split(X3,Y1,test_size=0.2)\n",
        "X_train4, X_test4, Y_train4, Y_test4 = train_test_split(X4,Y1,test_size=0.2)\n",
        "X_train5, X_test5, Y_train5, Y_test5 = train_test_split(X5,Y1,test_size=0.2)\n",
        "\n",
        "X_train1 = np.array(X_train1)\n",
        "Y_train1 = np.array(Y_train1)\n",
        "X_test1 =  np.array(X_test1)\n",
        "Y_test1 = np.array(Y_test1)\n"
      ],
      "metadata": {
        "id": "zdkz8s86rrsP"
      },
      "execution_count": null,
      "outputs": []
    },
    {
      "cell_type": "code",
      "source": [
        "clf = LogisticRegression()\n",
        "clf.fit(X_test.values, Y_test.values)\n",
        "clf.fit(X_train.values, Y_train.values)\n",
        "y_pred_test_no_regularization = clf.predict(X_test.values)\n",
        "y_pred_train_no_regularization = clf.predict(X_train.values)\n",
        "print('Predicted values for test dataset')\n",
        "print(y_pred_test_no_regularization)\n",
        "print('Confusion Matrix for test data')\n",
        "print(confusionmatrix(Y_test,y_pred_test_no_regularization))\n",
        "print('Accuracy:', metrics.accuracy_score(Y_test,y_pred_test_no_regularization)*100,'%')\n",
        "print('\\n')"
      ],
      "metadata": {
        "colab": {
          "base_uri": "https://localhost:8080/"
        },
        "id": "iyF1MIaYsN4I",
        "outputId": "b1c9e295-8cb8-4db8-bd63-612e829b9d2e"
      },
      "execution_count": null,
      "outputs": [
        {
          "output_type": "stream",
          "name": "stdout",
          "text": [
            "Predicted values for test dataset\n",
            "[0. 0. 0. 0. 0. 0. 0. 0. 0. 0. 0. 0. 0. 0. 0. 0. 0. 0. 0. 0. 0. 0. 0. 0.\n",
            " 0. 0. 0. 0. 0. 0. 1. 0. 0. 0. 0. 0. 0. 0. 0. 0. 0. 0. 0. 0. 0. 0. 0. 0.\n",
            " 0. 0. 0. 0. 0. 0. 1. 0. 1. 0. 0. 0. 0. 0. 0. 0. 0. 0. 0. 0. 0. 0. 0. 0.\n",
            " 0. 0. 0. 0. 0. 0. 0. 1. 0. 0. 0. 0. 0. 0. 0. 0. 0. 0. 0. 0. 0. 0. 0. 0.\n",
            " 0. 0. 0. 0. 0. 0. 0. 0. 0. 0. 0. 0. 1. 1. 0. 0. 0. 0. 0. 0. 0. 0. 0. 0.\n",
            " 0. 0. 0. 0. 0. 1. 0. 0. 0. 0. 0. 0. 0. 0. 0. 0. 0. 0. 0. 0. 1. 0. 0. 0.\n",
            " 0. 0. 0. 0. 0. 0. 0. 0. 0. 0. 0. 0. 1. 0. 0. 0. 0. 0. 0. 0. 0. 0. 0. 0.\n",
            " 0. 0. 0. 0. 0. 0. 0. 0. 0. 0. 0. 0. 0. 0. 0. 0. 0. 0. 0. 0. 0. 0. 0. 0.\n",
            " 0. 0. 0. 0. 0. 0. 0. 0. 0. 0. 0. 0. 0. 0. 0. 0. 1. 0. 0. 0. 0. 0. 0. 0.\n",
            " 1. 0.]\n",
            "Confusion Matrix for test data\n",
            "           predicted0.0  predicted1.0\n",
            "actual0.0           108             5\n",
            "actual1.0            99             6\n",
            "Accuracy: 52.293577981651374 %\n",
            "\n",
            "\n"
          ]
        }
      ]
    },
    {
      "cell_type": "markdown",
      "source": [
        "#4. ROC Curves"
      ],
      "metadata": {
        "id": "n7BQtLT-AmSD"
      }
    },
    {
      "cell_type": "markdown",
      "source": [
        "Write a python function that takes the predicted labels and the true label arrays, and computes the ROC curve as well as the area under the ROC curve/Area Under Curve(AUC)."
      ],
      "metadata": {
        "id": "VuLKrPTtAtL6"
      }
    },
    {
      "cell_type": "code",
      "source": [
        "def ROCandAUCcurve(y_test,y_pred,y_predicted, y_pred_test_no_regularization):\n",
        "  from sklearn.metrics import roc_curve, roc_auc_score\n",
        "  import matplotlib.pyplot as plt\n",
        "  r_fpr,r_tpr, _ = roc_curve(y_test,  y_pred_test)\n",
        "  rf_fpr, rf_tpr, _1 = roc_curve(y_test, y_predicted)\n",
        "  nb_fpr, nb_tpr, _2 = roc_curve(y_test, y_pred_test_no_regularization)\n",
        "  r_auc = roc_auc_score(y_test, y_pred_test)\n",
        "  r_auc1 = roc_auc_score(y_test, y_pred_test_no_regularization)\n",
        "  r_auc2 = roc_auc_score(y_test, y_predicted)\n",
        "  plt.figure()\n",
        "  plt.plot(r_fpr, r_tpr, linestyle='--', label='Model with regularization(AUROC = %0.3f)' % r_auc)\n",
        "  plt.plot(rf_fpr, rf_tpr, marker='.', label='Scikit Model (AUROC = %0.3f)' % r_auc2)\n",
        "  plt.plot(nb_fpr, nb_tpr, marker='.', label='Model with no regularization(AUROC = %0.3f)' % r_auc1)\n",
        "  plt.xlabel(\"False Positive Rate\")\n",
        "  plt.ylabel(\"True Positive Rate\")\n",
        "  plt.title(\"ROC Curve\")\n",
        "  plt.legend()\n",
        "  plt.show()\n",
        "  "
      ],
      "metadata": {
        "id": "2iaURweUAmz-"
      },
      "execution_count": null,
      "outputs": []
    },
    {
      "cell_type": "markdown",
      "source": [
        "Use the above function and matplotlib to draw ROC curves for the models from Question 3 with varying thresholds. Determine the best model in terms of the AUC. (Note: all ROC curves must be plotted in a single plot)."
      ],
      "metadata": {
        "id": "gAalglP2N_LQ"
      }
    },
    {
      "cell_type": "code",
      "source": [
        "#ROC Curve for test data\n",
        "ROCandAUCcurve(Y_test,y_pred_test,y_predicted,y_pred_test_no_regularization)"
      ],
      "metadata": {
        "colab": {
          "base_uri": "https://localhost:8080/",
          "height": 295
        },
        "id": "UHxljSMcJ5ek",
        "outputId": "f0e5da0f-c647-4ea4-f180-77d882f96e6d"
      },
      "execution_count": null,
      "outputs": [
        {
          "output_type": "display_data",
          "data": {
            "image/png": "[encoded data removed]",
            "text/plain": [
              "<Figure size 432x288 with 1 Axes>"
            ]
          },
          "metadata": {
            "needs_background": "light"
          }
        }
      ]
    },
    {
      "cell_type": "code",
      "source": [
        "#ROC Curve for training data\n",
        "ROCandAUCcurve(Y_train[:218],y_pred_train[:218],y_predicted_train[:218],y_pred_train_no_regularization[:218])"
      ],
      "metadata": {
        "colab": {
          "base_uri": "https://localhost:8080/",
          "height": 295
        },
        "id": "RJEAyd7TY8j-",
        "outputId": "9ea550fe-9119-4b7b-b796-5e4c5166651c"
      },
      "execution_count": null,
      "outputs": [
        {
          "output_type": "display_data",
          "data": {
            "image/png": "[encoded data removed]",
            "text/plain": [
              "<Figure size 432x288 with 1 Axes>"
            ]
          },
          "metadata": {
            "needs_background": "light"
          }
        }
      ]
    },
    {
      "cell_type": "markdown",
      "source": [
        "Repeat step 2 with the reference implementation from scikit-learn."
      ],
      "metadata": {
        "id": "YEqJcNyOboZR"
      }
    },
    {
      "cell_type": "code",
      "source": [
        "#Accuracy for test data\n",
        "import numpy as np\n",
        "from sklearn import metrics\n",
        "fpr, tpr, thresholds = metrics.roc_curve(Y_test,y_predicted)\n",
        "fpr1,tpr1,thresholds1 = metrics.roc_curve(Y_test,y_pred_test_no_regularization)\n",
        "fpr2,tpr2,thresholds2 = metrics.roc_curve(Y_test,y_pred_test)\n",
        "\n",
        "auc = roc_auc_score(Y_test, y_predicted)\n",
        "auc1 = roc_auc_score(Y_test, y_pred_test_no_regularization)\n",
        "auc2 = roc_auc_score(Y_test, y_pred_test)\n",
        "\n",
        "plt.plot(fpr, tpr, linestyle='--', label='Scikit Model (AUROC = %0.3f)' % auc)\n",
        "plt.plot(fpr1, tpr1, marker='.', label='Model with no regularization (AUROC = %0.3f)' % auc1)\n",
        "plt.plot(fpr2, tpr2, marker='.', label='Model with regularization(AUROC = %0.3f)' % auc2)\n",
        "plt.xlabel(\"False Positive Rate\")\n",
        "plt.ylabel(\"True Positive Rate\")\n",
        "plt.title(\"ROC Curve\")\n",
        "plt.legend()\n",
        "plt.show()"
      ],
      "metadata": {
        "colab": {
          "base_uri": "https://localhost:8080/",
          "height": 295
        },
        "id": "iJ9HU5rxbrNF",
        "outputId": "269e61b5-f1b9-47fd-9551-daa82aa43371"
      },
      "execution_count": null,
      "outputs": [
        {
          "output_type": "display_data",
          "data": {
            "image/png": "[encoded data removed]",
            "text/plain": [
              "<Figure size 432x288 with 1 Axes>"
            ]
          },
          "metadata": {
            "needs_background": "light"
          }
        }
      ]
    },
    {
      "cell_type": "code",
      "source": [
        "#Accuracy for training data\n",
        "import numpy as np\n",
        "from sklearn import metrics\n",
        "fpr, tpr, thresholds = metrics.roc_curve(Y_train,y_predicted_train)\n",
        "fpr1,tpr1,thresholds1 = metrics.roc_curve(Y_train,y_pred_train_no_regularization)\n",
        "fpr2,tpr2,thresholds2 = metrics.roc_curve(Y_train,y_pred_train)\n",
        "\n",
        "auc = roc_auc_score(Y_train, y_predicted_train)\n",
        "auc1 = roc_auc_score(Y_train, y_pred_train_no_regularization)\n",
        "auc2 = roc_auc_score(Y_train, y_pred_train)\n",
        "\n",
        "plt.plot(fpr, tpr, linestyle='--', label='Scikit Model (AUROC = %0.3f)' % auc)\n",
        "plt.plot(fpr1, tpr1, marker='.', label='Model with no regularization (AUROC = %0.3f)' % auc1)\n",
        "plt.plot(fpr2, tpr2, marker='.', label='Model with regularization(AUROC = %0.3f)' % auc2)\n",
        "plt.xlabel(\"False Positive Rate\")\n",
        "plt.ylabel(\"True Positive Rate\")\n",
        "plt.title(\"ROC Curve\")\n",
        "plt.legend()\n",
        "plt.show()"
      ],
      "metadata": {
        "colab": {
          "base_uri": "https://localhost:8080/",
          "height": 295
        },
        "id": "F9-2FsrdfYDA",
        "outputId": "78b2e70b-e089-4493-af95-0bcfc587e0da"
      },
      "execution_count": null,
      "outputs": [
        {
          "output_type": "display_data",
          "data": {
            "image/png": "[encoded data removed]",
            "text/plain": [
              "<Figure size 432x288 with 1 Axes>"
            ]
          },
          "metadata": {
            "needs_background": "light"
          }
        }
      ]
    },
    {
      "cell_type": "markdown",
      "source": [
        "Fit suitable k-nn and decision tree models (using your implementations from Assignment 1) to the Weekly dataset in Question 2, and compare them with the best logistic regression model obtained in part 2. Report the confusion matrices, accuracies, AUCs and the ROC curves (on the same plot) and comment on which model is the better one among the three types."
      ],
      "metadata": {
        "id": "n2VLeMPbgAWX"
      }
    },
    {
      "cell_type": "code",
      "source": [
        "#resource = https://github.com/python-engineer/MLfromscratch/blob/master/mlfromscratch/decision_tree.py\n",
        "\n",
        "from collections import Counter\n",
        "\n",
        "import numpy as np\n",
        "\n",
        "def entropy(y):\n",
        "    hist = np.bincount(y)\n",
        "    ps = hist / len(y)\n",
        "    return -np.sum([p * np.log2(p) for p in ps if p > 0])\n",
        "\n",
        "\n",
        "class Node:\n",
        "    def __init__(\n",
        "        self, feature=None, threshold=None, left=None, right=None, *, value=None\n",
        "    ):\n",
        "        self.feature = feature\n",
        "        self.threshold = threshold\n",
        "        self.left = left\n",
        "        self.right = right\n",
        "        self.value = value\n",
        "\n",
        "    def is_leaf_node(self):\n",
        "        return self.value is not None\n",
        "\n",
        "\n",
        "class DecisionTree:\n",
        "    def __init__(self, min_samples_split=2, max_depth=100, n_feats=None):\n",
        "        self.min_samples_split = min_samples_split\n",
        "        self.max_depth = max_depth\n",
        "        self.n_feats = n_feats\n",
        "        self.root = None\n",
        "\n",
        "    def fit(self, X, y):\n",
        "        self.n_feats = X.shape[1] if not self.n_feats else min(self.n_feats, X.shape[1])\n",
        "        self.root = self._grow_tree(X, y)\n",
        "\n",
        "    def predict(self, X):\n",
        "        return np.array([self._traverse_tree(x, self.root) for x in X])\n",
        "\n",
        "    def _grow_tree(self, X, y, depth=0):\n",
        "        n_samples, n_features = X.shape\n",
        "        n_labels = len(np.unique(y))\n",
        "\n",
        "        # stopping criteria\n",
        "        if (\n",
        "            depth >= self.max_depth\n",
        "            or n_labels == 1\n",
        "            or n_samples < self.min_samples_split\n",
        "        ):\n",
        "            leaf_value = self._most_common_label(y)\n",
        "            return Node(value=leaf_value)\n",
        "\n",
        "        feat_idxs = np.random.choice(n_features, self.n_feats, replace=False)\n",
        "\n",
        "        # greedily select the best split according to information gain\n",
        "        best_feat, best_thresh = self._best_criteria(X, y, feat_idxs)\n",
        "\n",
        "        # grow the children that result from the split\n",
        "        left_idxs, right_idxs = self._split(X[:, best_feat], best_thresh)\n",
        "        left = self._grow_tree(X[left_idxs, :], y[left_idxs], depth + 1)\n",
        "        right = self._grow_tree(X[right_idxs, :], y[right_idxs], depth + 1)\n",
        "        return Node(best_feat, best_thresh, left, right)\n",
        "\n",
        "    def _best_criteria(self, X, y, feat_idxs):\n",
        "        best_gain = -1\n",
        "        split_idx, split_thresh = None, None\n",
        "        for feat_idx in feat_idxs:\n",
        "            X_column = X[:, feat_idx]\n",
        "            thresholds = np.unique(X_column)\n",
        "            for threshold in thresholds:\n",
        "                gain = self._information_gain(y, X_column, threshold)\n",
        "\n",
        "                if gain > best_gain:\n",
        "                    best_gain = gain\n",
        "                    split_idx = feat_idx\n",
        "                    split_thresh = threshold\n",
        "\n",
        "        return split_idx, split_thresh\n",
        "\n",
        "    def _information_gain(self, y, X_column, split_thresh):\n",
        "        # parent loss\n",
        "        parent_entropy = entropy(y)\n",
        "\n",
        "        # generate split\n",
        "        left_idxs, right_idxs = self._split(X_column, split_thresh)\n",
        "\n",
        "        if len(left_idxs) == 0 or len(right_idxs) == 0:\n",
        "            return 0\n",
        "\n",
        "        # compute the weighted avg. of the loss for the children\n",
        "        n = len(y)\n",
        "        n_l, n_r = len(left_idxs), len(right_idxs)\n",
        "        e_l, e_r = entropy(y[left_idxs]), entropy(y[right_idxs])\n",
        "        child_entropy = (n_l / n) * e_l + (n_r / n) * e_r\n",
        "\n",
        "        # information gain is difference in loss before vs. after split\n",
        "        ig = parent_entropy - child_entropy\n",
        "        return ig\n",
        "\n",
        "    def _split(self, X_column, split_thresh):\n",
        "        left_idxs = np.argwhere(X_column <= split_thresh).flatten()\n",
        "        right_idxs = np.argwhere(X_column > split_thresh).flatten()\n",
        "        return left_idxs, right_idxs\n",
        "\n",
        "    def _traverse_tree(self, x, node):\n",
        "        if node.is_leaf_node():\n",
        "            return node.value\n",
        "\n",
        "        if x[node.feature] <= node.threshold:\n",
        "            return self._traverse_tree(x, node.left)\n",
        "        return self._traverse_tree(x, node.right)\n",
        "\n",
        "    def _most_common_label(self, y):\n",
        "        counter = Counter(y)\n",
        "        most_common = counter.most_common(1)[0][0]\n",
        "        return most_common\n",
        "\n",
        "\n",
        "if __name__ == \"__main__\":\n",
        "    # Imports\n",
        "    from sklearn import datasets\n",
        "    from sklearn.model_selection import train_test_split\n",
        "\n",
        "    def accuracy(y_true, y_pred):\n",
        "        accuracy = np.sum(y_true == y_pred) / len(y_true)\n",
        "        return accuracy\n",
        "\n"
      ],
      "metadata": {
        "id": "o9R2jMWltk_z"
      },
      "execution_count": null,
      "outputs": []
    },
    {
      "cell_type": "code",
      "source": [
        "#resource = https://github.com/python-engineer/MLfromscratch/blob/master/mlfromscratch/decision_tree.py\n",
        "\n",
        "from collections import Counter\n",
        "\n",
        "import numpy as np\n",
        "\n",
        "def entropy(y):\n",
        "    hist = np.bincount(y)\n",
        "    ps = hist / len(y)\n",
        "    return -np.sum([p * np.log2(p) for p in ps if p > 0])\n",
        "\n",
        "\n",
        "class Node:\n",
        "    def __init__(\n",
        "        self, feature=None, threshold=None, left=None, right=None, *, value=None\n",
        "    ):\n",
        "        self.feature = feature\n",
        "        self.threshold = threshold\n",
        "        self.left = left\n",
        "        self.right = right\n",
        "        self.value = value\n",
        "\n",
        "    def is_leaf_node(self):\n",
        "        return self.value is not None\n",
        "\n",
        "\n",
        "class DecisionTree:\n",
        "    def __init__(self, min_samples_split=2, max_depth=100, n_feats=None):\n",
        "        self.min_samples_split = min_samples_split\n",
        "        self.max_depth = max_depth\n",
        "        self.n_feats = n_feats\n",
        "        self.root = None\n",
        "\n",
        "    def fit(self, X, y):\n",
        "        self.n_feats = X.shape[1] if not self.n_feats else min(self.n_feats, X.shape[1])\n",
        "        self.root = self._grow_tree(X, y)\n",
        "\n",
        "    def predict(self, X):\n",
        "        return np.array([self._traverse_tree(x, self.root) for x in X])\n",
        "\n",
        "    def _grow_tree(self, X, y, depth=0):\n",
        "        n_samples, n_features = X.shape\n",
        "        n_labels = len(np.unique(y))\n",
        "\n",
        "        # stopping criteria\n",
        "        if (\n",
        "            depth >= self.max_depth\n",
        "            or n_labels == 1\n",
        "            or n_samples < self.min_samples_split\n",
        "        ):\n",
        "            leaf_value = self._most_common_label(y)\n",
        "            return Node(value=leaf_value)\n",
        "\n",
        "        feat_idxs = np.random.choice(n_features, self.n_feats, replace=False)\n",
        "\n",
        "        # greedily select the best split according to information gain\n",
        "        best_feat, best_thresh = self._best_criteria(X, y, feat_idxs)\n",
        "\n",
        "        # grow the children that result from the split\n",
        "        left_idxs, right_idxs = self._split(X[:, best_feat], best_thresh)\n",
        "        left = self._grow_tree(X[left_idxs, :], y[left_idxs], depth + 1)\n",
        "        right = self._grow_tree(X[right_idxs, :], y[right_idxs], depth + 1)\n",
        "        return Node(best_feat, best_thresh, left, right)\n",
        "\n",
        "    def _best_criteria(self, X, y, feat_idxs):\n",
        "        best_gain = -1\n",
        "        split_idx, split_thresh = None, None\n",
        "        for feat_idx in feat_idxs:\n",
        "            X_column = X[:, feat_idx]\n",
        "            thresholds = np.unique(X_column)\n",
        "            for threshold in thresholds:\n",
        "                gain = self._information_gain(y, X_column, threshold)\n",
        "\n",
        "                if gain > best_gain:\n",
        "                    best_gain = gain\n",
        "                    split_idx = feat_idx\n",
        "                    split_thresh = threshold\n",
        "\n",
        "        return split_idx, split_thresh\n",
        "\n",
        "    def _information_gain(self, y, X_column, split_thresh):\n",
        "        # parent loss\n",
        "        parent_entropy = entropy(y)\n",
        "\n",
        "        # generate split\n",
        "        left_idxs, right_idxs = self._split(X_column, split_thresh)\n",
        "\n",
        "        if len(left_idxs) == 0 or len(right_idxs) == 0:\n",
        "            return 0\n",
        "\n",
        "        # compute the weighted avg. of the loss for the children\n",
        "        n = len(y)\n",
        "        n_l, n_r = len(left_idxs), len(right_idxs)\n",
        "        e_l, e_r = entropy(y[left_idxs]), entropy(y[right_idxs])\n",
        "        child_entropy = (n_l / n) * e_l + (n_r / n) * e_r\n",
        "\n",
        "        # information gain is difference in loss before vs. after split\n",
        "        ig = parent_entropy - child_entropy\n",
        "        return ig\n",
        "\n",
        "    def _split(self, X_column, split_thresh):\n",
        "        left_idxs = np.argwhere(X_column <= split_thresh).flatten()\n",
        "        right_idxs = np.argwhere(X_column > split_thresh).flatten()\n",
        "        return left_idxs, right_idxs\n",
        "\n",
        "    def _traverse_tree(self, x, node):\n",
        "        if node.is_leaf_node():\n",
        "            return node.value\n",
        "\n",
        "        if x[node.feature] <= node.threshold:\n",
        "            return self._traverse_tree(x, node.left)\n",
        "        return self._traverse_tree(x, node.right)\n",
        "\n",
        "    def _most_common_label(self, y):\n",
        "        counter = Counter(y)\n",
        "        most_common = counter.most_common(1)[0][0]\n",
        "        return most_common\n",
        "\n",
        "\n",
        "if __name__ == \"__main__\":\n",
        "    # Imports\n",
        "    from sklearn import datasets\n",
        "    from sklearn.model_selection import train_test_split\n",
        "\n",
        "    def accuracy(y_true, y_pred):\n",
        "        accuracy = np.sum(y_true == y_pred) / len(y_true)\n",
        "        return accuracy"
      ],
      "metadata": {
        "id": "peP2rLpP50dP"
      },
      "execution_count": null,
      "outputs": []
    }
  ]
}